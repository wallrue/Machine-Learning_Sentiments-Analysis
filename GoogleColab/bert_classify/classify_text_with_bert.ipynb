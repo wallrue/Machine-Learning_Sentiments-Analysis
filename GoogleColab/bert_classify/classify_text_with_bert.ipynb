{
 "cells": [
  {
   "cell_type": "markdown",
   "metadata": {
    "id": "taxZe0XZq45v"
   },
   "source": [
    "#RUN INSTALL"
   ]
  },
  {
   "cell_type": "code",
   "execution_count": 82,
   "metadata": {
    "executionInfo": {
     "elapsed": 290,
     "status": "ok",
     "timestamp": 1642433862386,
     "user": {
      "displayName": "Le Tuong",
      "photoUrl": "https://lh3.googleusercontent.com/a/default-user=s64",
      "userId": "15697575616762725293"
     },
     "user_tz": -480
    },
    "id": "rHaXoinoKdYe"
   },
   "outputs": [],
   "source": [
    "from google.colab import drive"
   ]
  },
  {
   "cell_type": "code",
   "execution_count": 83,
   "metadata": {
    "colab": {
     "base_uri": "https://localhost:8080/"
    },
    "executionInfo": {
     "elapsed": 24,
     "status": "ok",
     "timestamp": 1642433862869,
     "user": {
      "displayName": "Le Tuong",
      "photoUrl": "https://lh3.googleusercontent.com/a/default-user=s64",
      "userId": "15697575616762725293"
     },
     "user_tz": -480
    },
    "id": "yCFUU3bHKs6y",
    "outputId": "0a8fb23c-9df5-4df6-affa-bfcb8a890d3c"
   },
   "outputs": [
    {
     "name": "stdout",
     "output_type": "stream",
     "text": [
      "Drive already mounted at /content/drive/; to attempt to forcibly remount, call drive.mount(\"/content/drive/\", force_remount=True).\n"
     ]
    }
   ],
   "source": [
    "drive._mount('/content/drive/')"
   ]
  },
  {
   "cell_type": "code",
   "execution_count": 84,
   "metadata": {
    "colab": {
     "base_uri": "https://localhost:8080/"
    },
    "executionInfo": {
     "elapsed": 21,
     "status": "ok",
     "timestamp": 1642433862870,
     "user": {
      "displayName": "Le Tuong",
      "photoUrl": "https://lh3.googleusercontent.com/a/default-user=s64",
      "userId": "15697575616762725293"
     },
     "user_tz": -480
    },
    "id": "9fM_XAqFKuHi",
    "outputId": "625361e9-1346-4832-a903-71d74335e2b3"
   },
   "outputs": [
    {
     "name": "stdout",
     "output_type": "stream",
     "text": [
      "/bin/bash: line 0: cd: content/drive/MyDrive: No such file or directory\n"
     ]
    }
   ],
   "source": [
    "!cd 'content/drive/MyDrive'"
   ]
  },
  {
   "cell_type": "code",
   "execution_count": 85,
   "metadata": {
    "executionInfo": {
     "elapsed": 3843,
     "status": "ok",
     "timestamp": 1642433866699,
     "user": {
      "displayName": "Le Tuong",
      "photoUrl": "https://lh3.googleusercontent.com/a/default-user=s64",
      "userId": "15697575616762725293"
     },
     "user_tz": -480
    },
    "id": "b-P1ZOA0FkVJ"
   },
   "outputs": [],
   "source": [
    "!pip install -q tf-models-official"
   ]
  },
  {
   "cell_type": "code",
   "execution_count": 86,
   "metadata": {
    "executionInfo": {
     "elapsed": 2932,
     "status": "ok",
     "timestamp": 1642433869623,
     "user": {
      "displayName": "Le Tuong",
      "photoUrl": "https://lh3.googleusercontent.com/a/default-user=s64",
      "userId": "15697575616762725293"
     },
     "user_tz": -480
    },
    "id": "06KdgpDkxAL8"
   },
   "outputs": [],
   "source": [
    "pip install -q -U tensorflow-text"
   ]
  },
  {
   "cell_type": "markdown",
   "metadata": {
    "id": "eo6i1au2rJsF"
   },
   "source": [
    "#ADDING LIBRARY AND FUNCTION"
   ]
  },
  {
   "cell_type": "code",
   "execution_count": 87,
   "metadata": {
    "executionInfo": {
     "elapsed": 328,
     "status": "ok",
     "timestamp": 1642433900149,
     "user": {
      "displayName": "Le Tuong",
      "photoUrl": "https://lh3.googleusercontent.com/a/default-user=s64",
      "userId": "15697575616762725293"
     },
     "user_tz": -480
    },
    "id": "_XgTpm9ZxoN9"
   },
   "outputs": [],
   "source": [
    "import os\n",
    "import shutil\n",
    "\n",
    "import tensorflow as tf\n",
    "import tensorflow_hub as hub\n",
    "import tensorflow_text as text\n",
    "from official.nlp import optimization  # to create AdamW optimizer\n",
    "\n",
    "import matplotlib.pyplot as plt"
   ]
  },
  {
   "cell_type": "code",
   "execution_count": 88,
   "metadata": {
    "executionInfo": {
     "elapsed": 9,
     "status": "ok",
     "timestamp": 1642433900616,
     "user": {
      "displayName": "Le Tuong",
      "photoUrl": "https://lh3.googleusercontent.com/a/default-user=s64",
      "userId": "15697575616762725293"
     },
     "user_tz": -480
    },
    "id": "mfrIJtuPftc3"
   },
   "outputs": [],
   "source": [
    "import numpy as np\n",
    "def plot_loss(H, EPOCHS):\n",
    "    acc = H.history['binary_accuracy']\n",
    "    val_acc = H.history['val_binary_accuracy']\n",
    "    \n",
    "    plt.style.use(\"classic\")\n",
    "    plt.figure(figsize=[10,7])\n",
    "    plt.xlim(0,EPOCHS)\n",
    "    plt.ylim(0.7,1.0)\n",
    "    N = EPOCHS\n",
    "    # plt.plot(np.arange(0, N), H.history[\"loss\"], label=\"train_loss\")\n",
    "    # plt.plot(np.arange(0, N), H.history[\"val_loss\"], label=\"val_loss\")\n",
    "    plt.plot(np.arange(0, N), acc, label=\"train_acc\")\n",
    "    plt.plot(np.arange(0, N), val_acc, label=\"val_acc\")\n",
    "    plt.grid()\n",
    "    plt.title(\"Training Loss and Accuracy\")\n",
    "    plt.xlabel(\"Epoch #\")\n",
    "    plt.ylabel(\"Loss/Accuracy\")\n",
    "    plt.legend(loc=\"lower left\")\n",
    "    plt.savefig(\"plot_BERT\")"
   ]
  },
  {
   "cell_type": "markdown",
   "metadata": {
    "id": "HGm10A5HRGXp"
   },
   "source": [
    "#BUILDING BERT"
   ]
  },
  {
   "cell_type": "code",
   "execution_count": 89,
   "metadata": {
    "colab": {
     "base_uri": "https://localhost:8080/"
    },
    "executionInfo": {
     "elapsed": 350,
     "status": "ok",
     "timestamp": 1642433910197,
     "user": {
      "displayName": "Le Tuong",
      "photoUrl": "https://lh3.googleusercontent.com/a/default-user=s64",
      "userId": "15697575616762725293"
     },
     "user_tz": -480
    },
    "id": "y8_ctG55-uTX",
    "outputId": "3fe76475-e309-4bad-c95d-a226ab30a5c1"
   },
   "outputs": [
    {
     "name": "stdout",
     "output_type": "stream",
     "text": [
      "BERT model selected           : https://tfhub.dev/tensorflow/small_bert/bert_en_uncased_L-4_H-512_A-8/1\n",
      "Preprocess model auto-selected: https://tfhub.dev/tensorflow/bert_en_uncased_preprocess/3\n"
     ]
    }
   ],
   "source": [
    "#@title Choose a BERT model to fine-tune\n",
    "\n",
    "bert_model_name = 'small_bert/bert_en_uncased_L-4_H-512_A-8'  #@param [\"bert_en_uncased_L-12_H-768_A-12\", \"bert_en_cased_L-12_H-768_A-12\", \"bert_multi_cased_L-12_H-768_A-12\", \"small_bert/bert_en_uncased_L-2_H-128_A-2\", \"small_bert/bert_en_uncased_L-2_H-256_A-4\", \"small_bert/bert_en_uncased_L-2_H-512_A-8\", \"small_bert/bert_en_uncased_L-2_H-768_A-12\", \"small_bert/bert_en_uncased_L-4_H-128_A-2\", \"small_bert/bert_en_uncased_L-4_H-256_A-4\", \"small_bert/bert_en_uncased_L-4_H-512_A-8\", \"small_bert/bert_en_uncased_L-4_H-768_A-12\", \"small_bert/bert_en_uncased_L-6_H-128_A-2\", \"small_bert/bert_en_uncased_L-6_H-256_A-4\", \"small_bert/bert_en_uncased_L-6_H-512_A-8\", \"small_bert/bert_en_uncased_L-6_H-768_A-12\", \"small_bert/bert_en_uncased_L-8_H-128_A-2\", \"small_bert/bert_en_uncased_L-8_H-256_A-4\", \"small_bert/bert_en_uncased_L-8_H-512_A-8\", \"small_bert/bert_en_uncased_L-8_H-768_A-12\", \"small_bert/bert_en_uncased_L-10_H-128_A-2\", \"small_bert/bert_en_uncased_L-10_H-256_A-4\", \"small_bert/bert_en_uncased_L-10_H-512_A-8\", \"small_bert/bert_en_uncased_L-10_H-768_A-12\", \"small_bert/bert_en_uncased_L-12_H-128_A-2\", \"small_bert/bert_en_uncased_L-12_H-256_A-4\", \"small_bert/bert_en_uncased_L-12_H-512_A-8\", \"small_bert/bert_en_uncased_L-12_H-768_A-12\", \"albert_en_base\", \"electra_small\", \"electra_base\", \"experts_pubmed\", \"experts_wiki_books\", \"talking-heads_base\"]\n",
    "\n",
    "map_name_to_handle = {\n",
    "    'bert_en_uncased_L-12_H-768_A-12':\n",
    "        'https://tfhub.dev/tensorflow/bert_en_uncased_L-12_H-768_A-12/3',\n",
    "    'bert_en_cased_L-12_H-768_A-12':\n",
    "        'https://tfhub.dev/tensorflow/bert_en_cased_L-12_H-768_A-12/3',\n",
    "    'bert_multi_cased_L-12_H-768_A-12':\n",
    "        'https://tfhub.dev/tensorflow/bert_multi_cased_L-12_H-768_A-12/3',\n",
    "    'small_bert/bert_en_uncased_L-2_H-128_A-2':\n",
    "        'https://tfhub.dev/tensorflow/small_bert/bert_en_uncased_L-2_H-128_A-2/1',\n",
    "    'small_bert/bert_en_uncased_L-2_H-256_A-4':\n",
    "        'https://tfhub.dev/tensorflow/small_bert/bert_en_uncased_L-2_H-256_A-4/1',\n",
    "    'small_bert/bert_en_uncased_L-2_H-512_A-8':\n",
    "        'https://tfhub.dev/tensorflow/small_bert/bert_en_uncased_L-2_H-512_A-8/1',\n",
    "    'small_bert/bert_en_uncased_L-2_H-768_A-12':\n",
    "        'https://tfhub.dev/tensorflow/small_bert/bert_en_uncased_L-2_H-768_A-12/1',\n",
    "    'small_bert/bert_en_uncased_L-4_H-128_A-2':\n",
    "        'https://tfhub.dev/tensorflow/small_bert/bert_en_uncased_L-4_H-128_A-2/1',\n",
    "    'small_bert/bert_en_uncased_L-4_H-256_A-4':\n",
    "        'https://tfhub.dev/tensorflow/small_bert/bert_en_uncased_L-4_H-256_A-4/1',\n",
    "    'small_bert/bert_en_uncased_L-4_H-512_A-8':\n",
    "        'https://tfhub.dev/tensorflow/small_bert/bert_en_uncased_L-4_H-512_A-8/1',\n",
    "    'small_bert/bert_en_uncased_L-4_H-768_A-12':\n",
    "        'https://tfhub.dev/tensorflow/small_bert/bert_en_uncased_L-4_H-768_A-12/1',\n",
    "    'small_bert/bert_en_uncased_L-6_H-128_A-2':\n",
    "        'https://tfhub.dev/tensorflow/small_bert/bert_en_uncased_L-6_H-128_A-2/1',\n",
    "    'small_bert/bert_en_uncased_L-6_H-256_A-4':\n",
    "        'https://tfhub.dev/tensorflow/small_bert/bert_en_uncased_L-6_H-256_A-4/1',\n",
    "    'small_bert/bert_en_uncased_L-6_H-512_A-8':\n",
    "        'https://tfhub.dev/tensorflow/small_bert/bert_en_uncased_L-6_H-512_A-8/1',\n",
    "    'small_bert/bert_en_uncased_L-6_H-768_A-12':\n",
    "        'https://tfhub.dev/tensorflow/small_bert/bert_en_uncased_L-6_H-768_A-12/1',\n",
    "    'small_bert/bert_en_uncased_L-8_H-128_A-2':\n",
    "        'https://tfhub.dev/tensorflow/small_bert/bert_en_uncased_L-8_H-128_A-2/1',\n",
    "    'small_bert/bert_en_uncased_L-8_H-256_A-4':\n",
    "        'https://tfhub.dev/tensorflow/small_bert/bert_en_uncased_L-8_H-256_A-4/1',\n",
    "    'small_bert/bert_en_uncased_L-8_H-512_A-8':\n",
    "        'https://tfhub.dev/tensorflow/small_bert/bert_en_uncased_L-8_H-512_A-8/1',\n",
    "    'small_bert/bert_en_uncased_L-8_H-768_A-12':\n",
    "        'https://tfhub.dev/tensorflow/small_bert/bert_en_uncased_L-8_H-768_A-12/1',\n",
    "    'small_bert/bert_en_uncased_L-10_H-128_A-2':\n",
    "        'https://tfhub.dev/tensorflow/small_bert/bert_en_uncased_L-10_H-128_A-2/1',\n",
    "    'small_bert/bert_en_uncased_L-10_H-256_A-4':\n",
    "        'https://tfhub.dev/tensorflow/small_bert/bert_en_uncased_L-10_H-256_A-4/1',\n",
    "    'small_bert/bert_en_uncased_L-10_H-512_A-8':\n",
    "        'https://tfhub.dev/tensorflow/small_bert/bert_en_uncased_L-10_H-512_A-8/1',\n",
    "    'small_bert/bert_en_uncased_L-10_H-768_A-12':\n",
    "        'https://tfhub.dev/tensorflow/small_bert/bert_en_uncased_L-10_H-768_A-12/1',\n",
    "    'small_bert/bert_en_uncased_L-12_H-128_A-2':\n",
    "        'https://tfhub.dev/tensorflow/small_bert/bert_en_uncased_L-12_H-128_A-2/1',\n",
    "    'small_bert/bert_en_uncased_L-12_H-256_A-4':\n",
    "        'https://tfhub.dev/tensorflow/small_bert/bert_en_uncased_L-12_H-256_A-4/1',\n",
    "    'small_bert/bert_en_uncased_L-12_H-512_A-8':\n",
    "        'https://tfhub.dev/tensorflow/small_bert/bert_en_uncased_L-12_H-512_A-8/1',\n",
    "    'small_bert/bert_en_uncased_L-12_H-768_A-12':\n",
    "        'https://tfhub.dev/tensorflow/small_bert/bert_en_uncased_L-12_H-768_A-12/1',\n",
    "    'albert_en_base':\n",
    "        'https://tfhub.dev/tensorflow/albert_en_base/2',\n",
    "    'electra_small':\n",
    "        'https://tfhub.dev/google/electra_small/2',\n",
    "    'electra_base':\n",
    "        'https://tfhub.dev/google/electra_base/2',\n",
    "    'experts_pubmed':\n",
    "        'https://tfhub.dev/google/experts/bert/pubmed/2',\n",
    "    'experts_wiki_books':\n",
    "        'https://tfhub.dev/google/experts/bert/wiki_books/2',\n",
    "    'talking-heads_base':\n",
    "        'https://tfhub.dev/tensorflow/talkheads_ggelu_bert_en_base/1',\n",
    "}\n",
    "\n",
    "map_model_to_preprocess = {\n",
    "    'bert_en_uncased_L-12_H-768_A-12':\n",
    "        'https://tfhub.dev/tensorflow/bert_en_uncased_preprocess/3',\n",
    "    'bert_en_cased_L-12_H-768_A-12':\n",
    "        'https://tfhub.dev/tensorflow/bert_en_cased_preprocess/3',\n",
    "    'small_bert/bert_en_uncased_L-2_H-128_A-2':\n",
    "        'https://tfhub.dev/tensorflow/bert_en_uncased_preprocess/3',\n",
    "    'small_bert/bert_en_uncased_L-2_H-256_A-4':\n",
    "        'https://tfhub.dev/tensorflow/bert_en_uncased_preprocess/3',\n",
    "    'small_bert/bert_en_uncased_L-2_H-512_A-8':\n",
    "        'https://tfhub.dev/tensorflow/bert_en_uncased_preprocess/3',\n",
    "    'small_bert/bert_en_uncased_L-2_H-768_A-12':\n",
    "        'https://tfhub.dev/tensorflow/bert_en_uncased_preprocess/3',\n",
    "    'small_bert/bert_en_uncased_L-4_H-128_A-2':\n",
    "        'https://tfhub.dev/tensorflow/bert_en_uncased_preprocess/3',\n",
    "    'small_bert/bert_en_uncased_L-4_H-256_A-4':\n",
    "        'https://tfhub.dev/tensorflow/bert_en_uncased_preprocess/3',\n",
    "    'small_bert/bert_en_uncased_L-4_H-512_A-8':\n",
    "        'https://tfhub.dev/tensorflow/bert_en_uncased_preprocess/3',\n",
    "    'small_bert/bert_en_uncased_L-4_H-768_A-12':\n",
    "        'https://tfhub.dev/tensorflow/bert_en_uncased_preprocess/3',\n",
    "    'small_bert/bert_en_uncased_L-6_H-128_A-2':\n",
    "        'https://tfhub.dev/tensorflow/bert_en_uncased_preprocess/3',\n",
    "    'small_bert/bert_en_uncased_L-6_H-256_A-4':\n",
    "        'https://tfhub.dev/tensorflow/bert_en_uncased_preprocess/3',\n",
    "    'small_bert/bert_en_uncased_L-6_H-512_A-8':\n",
    "        'https://tfhub.dev/tensorflow/bert_en_uncased_preprocess/3',\n",
    "    'small_bert/bert_en_uncased_L-6_H-768_A-12':\n",
    "        'https://tfhub.dev/tensorflow/bert_en_uncased_preprocess/3',\n",
    "    'small_bert/bert_en_uncased_L-8_H-128_A-2':\n",
    "        'https://tfhub.dev/tensorflow/bert_en_uncased_preprocess/3',\n",
    "    'small_bert/bert_en_uncased_L-8_H-256_A-4':\n",
    "        'https://tfhub.dev/tensorflow/bert_en_uncased_preprocess/3',\n",
    "    'small_bert/bert_en_uncased_L-8_H-512_A-8':\n",
    "        'https://tfhub.dev/tensorflow/bert_en_uncased_preprocess/3',\n",
    "    'small_bert/bert_en_uncased_L-8_H-768_A-12':\n",
    "        'https://tfhub.dev/tensorflow/bert_en_uncased_preprocess/3',\n",
    "    'small_bert/bert_en_uncased_L-10_H-128_A-2':\n",
    "        'https://tfhub.dev/tensorflow/bert_en_uncased_preprocess/3',\n",
    "    'small_bert/bert_en_uncased_L-10_H-256_A-4':\n",
    "        'https://tfhub.dev/tensorflow/bert_en_uncased_preprocess/3',\n",
    "    'small_bert/bert_en_uncased_L-10_H-512_A-8':\n",
    "        'https://tfhub.dev/tensorflow/bert_en_uncased_preprocess/3',\n",
    "    'small_bert/bert_en_uncased_L-10_H-768_A-12':\n",
    "        'https://tfhub.dev/tensorflow/bert_en_uncased_preprocess/3',\n",
    "    'small_bert/bert_en_uncased_L-12_H-128_A-2':\n",
    "        'https://tfhub.dev/tensorflow/bert_en_uncased_preprocess/3',\n",
    "    'small_bert/bert_en_uncased_L-12_H-256_A-4':\n",
    "        'https://tfhub.dev/tensorflow/bert_en_uncased_preprocess/3',\n",
    "    'small_bert/bert_en_uncased_L-12_H-512_A-8':\n",
    "        'https://tfhub.dev/tensorflow/bert_en_uncased_preprocess/3',\n",
    "    'small_bert/bert_en_uncased_L-12_H-768_A-12':\n",
    "        'https://tfhub.dev/tensorflow/bert_en_uncased_preprocess/3',\n",
    "    'bert_multi_cased_L-12_H-768_A-12':\n",
    "        'https://tfhub.dev/tensorflow/bert_multi_cased_preprocess/3',\n",
    "    'albert_en_base':\n",
    "        'https://tfhub.dev/tensorflow/albert_en_preprocess/3',\n",
    "    'electra_small':\n",
    "        'https://tfhub.dev/tensorflow/bert_en_uncased_preprocess/3',\n",
    "    'electra_base':\n",
    "        'https://tfhub.dev/tensorflow/bert_en_uncased_preprocess/3',\n",
    "    'experts_pubmed':\n",
    "        'https://tfhub.dev/tensorflow/bert_en_uncased_preprocess/3',\n",
    "    'experts_wiki_books':\n",
    "        'https://tfhub.dev/tensorflow/bert_en_uncased_preprocess/3',\n",
    "    'talking-heads_base':\n",
    "        'https://tfhub.dev/tensorflow/bert_en_uncased_preprocess/3',\n",
    "}\n",
    "\n",
    "tfhub_handle_encoder = map_name_to_handle[bert_model_name]\n",
    "tfhub_handle_preprocess = map_model_to_preprocess[bert_model_name]\n",
    "\n",
    "print(f'BERT model selected           : {tfhub_handle_encoder}')\n",
    "print(f'Preprocess model auto-selected: {tfhub_handle_preprocess}')"
   ]
  },
  {
   "cell_type": "code",
   "execution_count": 90,
   "metadata": {
    "executionInfo": {
     "elapsed": 8,
     "status": "ok",
     "timestamp": 1642433910642,
     "user": {
      "displayName": "Le Tuong",
      "photoUrl": "https://lh3.googleusercontent.com/a/default-user=s64",
      "userId": "15697575616762725293"
     },
     "user_tz": -480
    },
    "id": "aksj743St9ga"
   },
   "outputs": [],
   "source": [
    "def build_classifier_model():\n",
    "  text_input = tf.keras.layers.Input(shape=(), dtype=tf.string, name='text')\n",
    "  preprocessing_layer = hub.KerasLayer(tfhub_handle_preprocess, name='preprocessing')\n",
    "  encoder_inputs = preprocessing_layer(text_input)\n",
    "  encoder = hub.KerasLayer(tfhub_handle_encoder, trainable=True, name='BERT_encoder')\n",
    "  outputs = encoder(encoder_inputs)\n",
    "  net = outputs['pooled_output']\n",
    "  net = tf.keras.layers.Dropout(0.1)(net)\n",
    "  net = tf.keras.layers.Dense(1, activation=None, name='classifier')(net)\n",
    "  return tf.keras.Model(text_input, net)"
   ]
  },
  {
   "cell_type": "markdown",
   "metadata": {
    "id": "nX5Fr1H6sIgZ"
   },
   "source": [
    "#**CONDUCT EXPERIMENT ON STANDFORD DATASET**\n"
   ]
  },
  {
   "cell_type": "markdown",
   "metadata": {
    "id": "A3uvQ2HBr1Of"
   },
   "source": [
    "#ADDING DATASET"
   ]
  },
  {
   "cell_type": "code",
   "execution_count": 91,
   "metadata": {
    "executionInfo": {
     "elapsed": 28879,
     "status": "ok",
     "timestamp": 1642433951497,
     "user": {
      "displayName": "Le Tuong",
      "photoUrl": "https://lh3.googleusercontent.com/a/default-user=s64",
      "userId": "15697575616762725293"
     },
     "user_tz": -480
    },
    "id": "qAq2J0dFvy-M"
   },
   "outputs": [],
   "source": [
    "url = 'https://ai.stanford.edu/~amaas/data/sentiment/aclImdb_v1.tar.gz'\n",
    "\n",
    "dataset = tf.keras.utils.get_file('aclImdb_v1.tar.gz', url,\n",
    "                                  untar=True, cache_dir='.',\n",
    "                                  cache_subdir='')\n",
    "\n",
    "dataset_dir = os.path.join(os.path.dirname(dataset), 'aclImdb')\n",
    "\n",
    "train_dir = os.path.join(dataset_dir, 'train')\n",
    "\n",
    "# remove unused folders to make it easier to load the data\n",
    "remove_dir = os.path.join(train_dir, 'unsup')\n",
    "shutil.rmtree(remove_dir)"
   ]
  },
  {
   "cell_type": "code",
   "execution_count": 92,
   "metadata": {
    "colab": {
     "base_uri": "https://localhost:8080/"
    },
    "executionInfo": {
     "elapsed": 3396,
     "status": "ok",
     "timestamp": 1642433954868,
     "user": {
      "displayName": "Le Tuong",
      "photoUrl": "https://lh3.googleusercontent.com/a/default-user=s64",
      "userId": "15697575616762725293"
     },
     "user_tz": -480
    },
    "id": "6IwI_2bcIeX8",
    "outputId": "af39bdd0-2b7f-4821-fdfe-b8fc4f3fa27d"
   },
   "outputs": [
    {
     "name": "stdout",
     "output_type": "stream",
     "text": [
      "Found 25000 files belonging to 2 classes.\n",
      "Using 20000 files for training.\n",
      "Found 25000 files belonging to 2 classes.\n",
      "Using 5000 files for validation.\n",
      "Found 25000 files belonging to 2 classes.\n"
     ]
    }
   ],
   "source": [
    "AUTOTUNE = tf.data.AUTOTUNE\n",
    "batch_size = 32\n",
    "seed = 42\n",
    "\n",
    "raw_train_ds = tf.keras.utils.text_dataset_from_directory(\n",
    "    'aclImdb/train',\n",
    "    batch_size=batch_size,\n",
    "    validation_split=0.2,\n",
    "    subset='training',\n",
    "    seed=seed)\n",
    "\n",
    "class_names = raw_train_ds.class_names\n",
    "train_ds = raw_train_ds.cache().prefetch(buffer_size=AUTOTUNE)\n",
    "\n",
    "val_ds = tf.keras.utils.text_dataset_from_directory(\n",
    "    'aclImdb/train',\n",
    "    batch_size=batch_size,\n",
    "    validation_split=0.2,\n",
    "    subset='validation',\n",
    "    seed=seed)\n",
    "\n",
    "val_ds = val_ds.cache().prefetch(buffer_size=AUTOTUNE)\n",
    "\n",
    "test_ds = tf.keras.utils.text_dataset_from_directory(\n",
    "    'aclImdb/test',\n",
    "    batch_size=batch_size)\n",
    "\n",
    "test_ds = test_ds.cache().prefetch(buffer_size=AUTOTUNE)"
   ]
  },
  {
   "cell_type": "code",
   "execution_count": 93,
   "metadata": {
    "colab": {
     "base_uri": "https://localhost:8080/"
    },
    "executionInfo": {
     "elapsed": 13,
     "status": "ok",
     "timestamp": 1642433954870,
     "user": {
      "displayName": "Le Tuong",
      "photoUrl": "https://lh3.googleusercontent.com/a/default-user=s64",
      "userId": "15697575616762725293"
     },
     "user_tz": -480
    },
    "id": "JuxDkcvVIoev",
    "outputId": "fd62c97a-1aad-40f6-f29b-4a6a0cb47d00"
   },
   "outputs": [
    {
     "name": "stdout",
     "output_type": "stream",
     "text": [
      "Review: b'\"Pandemonium\" is a horror movie spoof that comes off more stupid than funny. Believe me when I tell you, I love comedies. Especially comedy spoofs. \"Airplane\", \"The Naked Gun\" trilogy, \"Blazing Saddles\", \"High Anxiety\", and \"Spaceballs\" are some of my favorite comedies that spoof a particular genre. \"Pandemonium\" is not up there with those films. Most of the scenes in this movie had me sitting there in stunned silence because the movie wasn\\'t all that funny. There are a few laughs in the film, but when you watch a comedy, you expect to laugh a lot more than a few times and that\\'s all this film has going for it. Geez, \"Scream\" had more laughs than this film and that was more of a horror film. How bizarre is that?<br /><br />*1/2 (out of four)'\n",
      "Label : 0 (neg)\n",
      "Review: b\"David Mamet is a very interesting and a very un-equal director. His first movie 'House of Games' was the one I liked best, and it set a series of films with characters whose perspective of life changes as they get into complicated situations, and so does the perspective of the viewer.<br /><br />So is 'Homicide' which from the title tries to set the mind of the viewer to the usual crime drama. The principal characters are two cops, one Jewish and one Irish who deal with a racially charged area. The murder of an old Jewish shop owner who proves to be an ancient veteran of the Israeli Independence war triggers the Jewish identity in the mind and heart of the Jewish detective.<br /><br />This is were the flaws of the film are the more obvious. The process of awakening is theatrical and hard to believe, the group of Jewish militants is operatic, and the way the detective eventually walks to the final violent confrontation is pathetic. The end of the film itself is Mamet-like smart, but disappoints from a human emotional perspective.<br /><br />Joe Mantegna and William Macy give strong performances, but the flaws of the story are too evident to be easily compensated.\"\n",
      "Label : 0 (neg)\n",
      "Review: b'Great documentary about the lives of NY firefighters during the worst terrorist attack of all time.. That reason alone is why this should be a must see collectors item.. What shocked me was not only the attacks, but the\"High Fat Diet\" and physical appearance of some of these firefighters. I think a lot of Doctors would agree with me that,in the physical shape they were in, some of these firefighters would NOT of made it to the 79th floor carrying over 60 lbs of gear. Having said that i now have a greater respect for firefighters and i realize becoming a firefighter is a life altering job. The French have a history of making great documentary\\'s and that is what this is, a Great Documentary.....'\n",
      "Label : 1 (pos)\n"
     ]
    }
   ],
   "source": [
    "for text_batch, label_batch in train_ds.take(1):\n",
    "  for i in range(3):\n",
    "    print(f'Review: {text_batch.numpy()[i]}')\n",
    "    label = label_batch.numpy()[i]\n",
    "    print(f'Label : {label} ({class_names[label]})')"
   ]
  },
  {
   "cell_type": "markdown",
   "metadata": {
    "id": "QN_TBe8XsvHe"
   },
   "source": [
    "#DEFINE MODEL"
   ]
  },
  {
   "cell_type": "code",
   "execution_count": 94,
   "metadata": {
    "executionInfo": {
     "elapsed": 9097,
     "status": "ok",
     "timestamp": 1642433972911,
     "user": {
      "displayName": "Le Tuong",
      "photoUrl": "https://lh3.googleusercontent.com/a/default-user=s64",
      "userId": "15697575616762725293"
     },
     "user_tz": -480
    },
    "id": "mGMF8AZcB2Zy"
   },
   "outputs": [],
   "source": [
    "classifier_model = build_classifier_model()"
   ]
  },
  {
   "cell_type": "code",
   "execution_count": 95,
   "metadata": {
    "executionInfo": {
     "elapsed": 20,
     "status": "ok",
     "timestamp": 1642433972913,
     "user": {
      "displayName": "Le Tuong",
      "photoUrl": "https://lh3.googleusercontent.com/a/default-user=s64",
      "userId": "15697575616762725293"
     },
     "user_tz": -480
    },
    "id": "OWPOZE-L3AgE"
   },
   "outputs": [],
   "source": [
    "loss = tf.keras.losses.BinaryCrossentropy(from_logits=True)\n",
    "metrics = tf.metrics.BinaryAccuracy()"
   ]
  },
  {
   "cell_type": "code",
   "execution_count": 96,
   "metadata": {
    "executionInfo": {
     "elapsed": 20,
     "status": "ok",
     "timestamp": 1642433972915,
     "user": {
      "displayName": "Le Tuong",
      "photoUrl": "https://lh3.googleusercontent.com/a/default-user=s64",
      "userId": "15697575616762725293"
     },
     "user_tz": -480
    },
    "id": "P9eP2y9dbw32"
   },
   "outputs": [],
   "source": [
    "epochs = 10#5\n",
    "steps_per_epoch = tf.data.experimental.cardinality(train_ds).numpy()\n",
    "num_train_steps = steps_per_epoch * epochs\n",
    "num_warmup_steps = int(0.1*num_train_steps)\n",
    "\n",
    "init_lr = 3e-5\n",
    "optimizer = optimization.create_optimizer(init_lr=init_lr,\n",
    "                                          num_train_steps=num_train_steps,\n",
    "                                          num_warmup_steps=num_warmup_steps,\n",
    "                                          optimizer_type='adamw')"
   ]
  },
  {
   "cell_type": "code",
   "execution_count": 97,
   "metadata": {
    "executionInfo": {
     "elapsed": 20,
     "status": "ok",
     "timestamp": 1642433972917,
     "user": {
      "displayName": "Le Tuong",
      "photoUrl": "https://lh3.googleusercontent.com/a/default-user=s64",
      "userId": "15697575616762725293"
     },
     "user_tz": -480
    },
    "id": "-7GPDhR98jsD"
   },
   "outputs": [],
   "source": [
    "classifier_model.compile(optimizer=optimizer,\n",
    "                         loss=loss,\n",
    "                         metrics=metrics)"
   ]
  },
  {
   "cell_type": "markdown",
   "metadata": {
    "id": "J_ic8iV3rkU_"
   },
   "source": [
    "#TRAINING BERT"
   ]
  },
  {
   "cell_type": "code",
   "execution_count": 98,
   "metadata": {
    "colab": {
     "base_uri": "https://localhost:8080/"
    },
    "executionInfo": {
     "elapsed": 486,
     "status": "ok",
     "timestamp": 1642433980968,
     "user": {
      "displayName": "Le Tuong",
      "photoUrl": "https://lh3.googleusercontent.com/a/default-user=s64",
      "userId": "15697575616762725293"
     },
     "user_tz": -480
    },
    "id": "UsahaNkWYswU",
    "outputId": "17a6807c-01e2-4287-d659-20494ca8d1d0"
   },
   "outputs": [
    {
     "name": "stdout",
     "output_type": "stream",
     "text": [
      "Found GPU at: /device:GPU:0\n"
     ]
    }
   ],
   "source": [
    "%tensorflow_version 2.x\n",
    "import tensorflow as tf\n",
    "device_name = tf.test.gpu_device_name()\n",
    "if device_name != '/device:GPU:0':\n",
    "  raise SystemError('GPU device not found')\n",
    "print('Found GPU at: {}'.format(device_name))\n",
    "\n",
    "%tensorflow_version 2.x\n",
    "import tensorflow as tf\n",
    "import timeit\n",
    "\n",
    "device_name = tf.test.gpu_device_name()\n",
    "if device_name != '/device:GPU:0':\n",
    "  print(\n",
    "      '\\n\\nThis error most likely means that this notebook is not '\n",
    "      'configured to use a GPU.  Change this in Notebook Settings via the '\n",
    "      'command palette (cmd/ctrl-shift-P) or the Edit menu.\\n\\n')\n",
    "  raise SystemError('GPU device not found')\n",
    "\n",
    "def cpu():\n",
    "  with tf.device('/cpu:0'):\n",
    "    random_image_cpu = tf.random.normal((100, 100, 100, 3))\n",
    "    net_cpu = tf.keras.layers.Conv2D(32, 7)(random_image_cpu)\n",
    "    return tf.math.reduce_sum(net_cpu)\n",
    "\n",
    "def gpu():\n",
    "  with tf.device('/device:GPU:0'):\n",
    "    print(f'Training model with {tfhub_handle_encoder}')\n",
    "    history = classifier_model.fit(x=train_ds,\n",
    "                               validation_data=val_ds,\n",
    "                               epochs=epochs)\n",
    "    plot_loss(history,epochs)"
   ]
  },
  {
   "cell_type": "code",
   "execution_count": 99,
   "metadata": {
    "colab": {
     "base_uri": "https://localhost:8080/",
     "height": 897
    },
    "executionInfo": {
     "elapsed": 1850911,
     "status": "ok",
     "timestamp": 1642435831860,
     "user": {
      "displayName": "Le Tuong",
      "photoUrl": "https://lh3.googleusercontent.com/a/default-user=s64",
      "userId": "15697575616762725293"
     },
     "user_tz": -480
    },
    "id": "sKv9aMTKbNWi",
    "outputId": "56d2631e-3ec6-477a-ca9c-fd4486df0920"
   },
   "outputs": [
    {
     "name": "stdout",
     "output_type": "stream",
     "text": [
      "Training model with https://tfhub.dev/tensorflow/small_bert/bert_en_uncased_L-4_H-512_A-8/1\n",
      "Epoch 1/10\n",
      "625/625 [==============================] - 175s 270ms/step - loss: 0.5104 - binary_accuracy: 0.7200 - val_loss: 0.3946 - val_binary_accuracy: 0.8296\n",
      "Epoch 2/10\n",
      "625/625 [==============================] - 165s 264ms/step - loss: 0.3486 - binary_accuracy: 0.8421 - val_loss: 0.4104 - val_binary_accuracy: 0.8442\n",
      "Epoch 3/10\n",
      "625/625 [==============================] - 165s 265ms/step - loss: 0.2675 - binary_accuracy: 0.8875 - val_loss: 0.4019 - val_binary_accuracy: 0.8472\n",
      "Epoch 4/10\n",
      "625/625 [==============================] - 163s 262ms/step - loss: 0.1981 - binary_accuracy: 0.9222 - val_loss: 0.4732 - val_binary_accuracy: 0.8470\n",
      "Epoch 5/10\n",
      "625/625 [==============================] - 159s 254ms/step - loss: 0.1477 - binary_accuracy: 0.9443 - val_loss: 0.5191 - val_binary_accuracy: 0.8526\n",
      "Epoch 6/10\n",
      "625/625 [==============================] - 158s 253ms/step - loss: 0.1129 - binary_accuracy: 0.9611 - val_loss: 0.6239 - val_binary_accuracy: 0.8482\n",
      "Epoch 7/10\n",
      "625/625 [==============================] - 158s 253ms/step - loss: 0.0833 - binary_accuracy: 0.9734 - val_loss: 0.7260 - val_binary_accuracy: 0.8510\n",
      "Epoch 8/10\n",
      "625/625 [==============================] - 158s 253ms/step - loss: 0.0630 - binary_accuracy: 0.9808 - val_loss: 0.8225 - val_binary_accuracy: 0.8466\n",
      "Epoch 9/10\n",
      "625/625 [==============================] - 158s 254ms/step - loss: 0.0509 - binary_accuracy: 0.9851 - val_loss: 0.8708 - val_binary_accuracy: 0.8484\n",
      "Epoch 10/10\n",
      "625/625 [==============================] - 158s 253ms/step - loss: 0.0415 - binary_accuracy: 0.9887 - val_loss: 0.8717 - val_binary_accuracy: 0.8502\n"
     ]
    },
    {
     "data": {
      "image/png": "[encoded data removed]",
      "text/plain": [
       "<Figure size 800x560 with 1 Axes>"
      ]
     },
     "metadata": {},
     "output_type": "display_data"
    }
   ],
   "source": [
    "# We run each op once to warm up; see: https://stackoverflow.com/a/45067900\n",
    "gpu()"
   ]
  },
  {
   "cell_type": "code",
   "execution_count": 100,
   "metadata": {
    "colab": {
     "base_uri": "https://localhost:8080/"
    },
    "executionInfo": {
     "elapsed": 88776,
     "status": "ok",
     "timestamp": 1642435920621,
     "user": {
      "displayName": "Le Tuong",
      "photoUrl": "https://lh3.googleusercontent.com/a/default-user=s64",
      "userId": "15697575616762725293"
     },
     "user_tz": -480
    },
    "id": "slqB-urBV9sP",
    "outputId": "2ac6be1c-8006-4358-b127-7dcd2c82050b"
   },
   "outputs": [
    {
     "name": "stdout",
     "output_type": "stream",
     "text": [
      "782/782 [==============================] - 89s 114ms/step - loss: 0.8413 - binary_accuracy: 0.8526\n",
      "Loss: 0.8412858843803406\n",
      "Accuracy: 0.8525999784469604\n"
     ]
    }
   ],
   "source": [
    "loss, accuracy = classifier_model.evaluate(test_ds)\n",
    "\n",
    "print(f'Loss: {loss}')\n",
    "print(f'Accuracy: {accuracy}')"
   ]
  },
  {
   "cell_type": "code",
   "execution_count": 101,
   "metadata": {
    "colab": {
     "base_uri": "https://localhost:8080/"
    },
    "executionInfo": {
     "elapsed": 69081,
     "status": "ok",
     "timestamp": 1642435989675,
     "user": {
      "displayName": "Le Tuong",
      "photoUrl": "https://lh3.googleusercontent.com/a/default-user=s64",
      "userId": "15697575616762725293"
     },
     "user_tz": -480
    },
    "id": "fmGFPpGIn78O",
    "outputId": "01ac3f40-0ae0-482f-8530-0e6fa7e9f6b6"
   },
   "outputs": [
    {
     "name": "stdout",
     "output_type": "stream",
     "text": [
      "625/625 [==============================] - 69s 110ms/step - loss: 0.0120 - binary_accuracy: 0.9977\n",
      "Loss: 0.012049872428178787\n",
      "Accuracy: 0.9976999759674072\n"
     ]
    }
   ],
   "source": [
    "loss, accuracy = classifier_model.evaluate(train_ds)\n",
    "\n",
    "print(f'Loss: {loss}')\n",
    "print(f'Accuracy: {accuracy}')"
   ]
  },
  {
   "cell_type": "code",
   "execution_count": 102,
   "metadata": {
    "colab": {
     "base_uri": "https://localhost:8080/"
    },
    "executionInfo": {
     "elapsed": 6971,
     "status": "ok",
     "timestamp": 1642435996586,
     "user": {
      "displayName": "Le Tuong",
      "photoUrl": "https://lh3.googleusercontent.com/a/default-user=s64",
      "userId": "15697575616762725293"
     },
     "user_tz": -480
    },
    "id": "ShcvqJAgVera",
    "outputId": "b0800c9e-7674-404b-f30c-75c3968cffe3"
   },
   "outputs": [
    {
     "name": "stderr",
     "output_type": "stream",
     "text": [
      "WARNING:absl:Found untraced functions such as restored_function_body, restored_function_body, restored_function_body, restored_function_body, restored_function_body while saving (showing 5 of 310). These functions will not be directly callable after loading.\n"
     ]
    },
    {
     "name": "stdout",
     "output_type": "stream",
     "text": [
      "INFO:tensorflow:Assets written to: ./imdb_bert/assets\n"
     ]
    },
    {
     "name": "stderr",
     "output_type": "stream",
     "text": [
      "INFO:tensorflow:Assets written to: ./imdb_bert/assets\n"
     ]
    }
   ],
   "source": [
    "dataset_name = 'imdb'\n",
    "saved_model_path = './{}_bert'.format(dataset_name.replace('/', '_'))\n",
    "\n",
    "classifier_model.save(saved_model_path, include_optimizer=False)\n",
    "#reloaded_model = tf.saved_model.load(saved_model_path)"
   ]
  },
  {
   "cell_type": "markdown",
   "metadata": {
    "id": "bInp1ugDvYoi"
   },
   "source": [
    "#**CONDUCT EXPERIMENT ON UIC DATASET**\n"
   ]
  },
  {
   "cell_type": "markdown",
   "metadata": {
    "id": "N6ugGU5KvYok"
   },
   "source": [
    "#ADDING DATASET"
   ]
  },
  {
   "cell_type": "code",
   "execution_count": 105,
   "metadata": {
    "colab": {
     "base_uri": "https://localhost:8080/"
    },
    "executionInfo": {
     "elapsed": 792,
     "status": "ok",
     "timestamp": 1642436098693,
     "user": {
      "displayName": "Le Tuong",
      "photoUrl": "https://lh3.googleusercontent.com/a/default-user=s64",
      "userId": "15697575616762725293"
     },
     "user_tz": -480
    },
    "id": "0LvKYbo-vYol",
    "outputId": "b957c799-9d3e-4a21-aecf-6c3c1d6ad15e"
   },
   "outputs": [
    {
     "name": "stdout",
     "output_type": "stream",
     "text": [
      "Found 2700 files belonging to 2 classes.\n",
      "Using 2160 files for training.\n",
      "Found 2700 files belonging to 2 classes.\n",
      "Using 540 files for validation.\n",
      "Found 300 files belonging to 2 classes.\n"
     ]
    }
   ],
   "source": [
    "AUTOTUNE = tf.data.AUTOTUNE\n",
    "batch_size = 32\n",
    "seed = 42\n",
    "\n",
    "raw_train_ds = tf.keras.utils.text_dataset_from_directory(\n",
    "    'drive/MyDrive/uic/train',\n",
    "    batch_size=batch_size,\n",
    "    validation_split=0.2,\n",
    "    subset='training',\n",
    "    seed=seed)\n",
    "\n",
    "class_names = raw_train_ds.class_names\n",
    "train_ds = raw_train_ds.cache().prefetch(buffer_size=AUTOTUNE)\n",
    "\n",
    "val_ds = tf.keras.utils.text_dataset_from_directory(\n",
    "    'drive/MyDrive/uic/train',\n",
    "    batch_size=batch_size,\n",
    "    validation_split=0.2,\n",
    "    subset='validation',\n",
    "    seed=seed)\n",
    "\n",
    "val_ds = val_ds.cache().prefetch(buffer_size=AUTOTUNE)\n",
    "\n",
    "test_ds = tf.keras.utils.text_dataset_from_directory(\n",
    "    'drive/MyDrive/uic/test',\n",
    "    batch_size=batch_size)\n",
    "\n",
    "test_ds = test_ds.cache().prefetch(buffer_size=AUTOTUNE)"
   ]
  },
  {
   "cell_type": "code",
   "execution_count": 106,
   "metadata": {
    "colab": {
     "base_uri": "https://localhost:8080/"
    },
    "executionInfo": {
     "elapsed": 332,
     "status": "ok",
     "timestamp": 1642436099017,
     "user": {
      "displayName": "Le Tuong",
      "photoUrl": "https://lh3.googleusercontent.com/a/default-user=s64",
      "userId": "15697575616762725293"
     },
     "user_tz": -480
    },
    "id": "s40ey5c7vYoo",
    "outputId": "ea4f96c9-4f35-4be0-80b9-3911ac3442ea"
   },
   "outputs": [
    {
     "name": "stdout",
     "output_type": "stream",
     "text": [
      "Review: b'\"us, it\\'s only 8 bucks.\"'\n",
      "Label : 1 (pos)\n",
      "Review: b'\"l i have to say is the food was amazing!!!\"'\n",
      "Label : 1 (pos)\n",
      "Review: b'\"ve it a try, you will be happy you did.\"'\n",
      "Label : 1 (pos)\n"
     ]
    }
   ],
   "source": [
    "for text_batch, label_batch in train_ds.take(1):\n",
    "  for i in range(3):\n",
    "    print(f'Review: {text_batch.numpy()[i]}')\n",
    "    label = label_batch.numpy()[i]\n",
    "    print(f'Label : {label} ({class_names[label]})')"
   ]
  },
  {
   "cell_type": "markdown",
   "metadata": {
    "id": "FsbZudbZvYop"
   },
   "source": [
    "#DEFINE MODEL"
   ]
  },
  {
   "cell_type": "code",
   "execution_count": 107,
   "metadata": {
    "executionInfo": {
     "elapsed": 9191,
     "status": "ok",
     "timestamp": 1642436112226,
     "user": {
      "displayName": "Le Tuong",
      "photoUrl": "https://lh3.googleusercontent.com/a/default-user=s64",
      "userId": "15697575616762725293"
     },
     "user_tz": -480
    },
    "id": "dMY8_8sAvYoq"
   },
   "outputs": [],
   "source": [
    "classifier_model = build_classifier_model()"
   ]
  },
  {
   "cell_type": "code",
   "execution_count": 108,
   "metadata": {
    "executionInfo": {
     "elapsed": 35,
     "status": "ok",
     "timestamp": 1642436112229,
     "user": {
      "displayName": "Le Tuong",
      "photoUrl": "https://lh3.googleusercontent.com/a/default-user=s64",
      "userId": "15697575616762725293"
     },
     "user_tz": -480
    },
    "id": "J49fhEuWvYos"
   },
   "outputs": [],
   "source": [
    "loss = tf.keras.losses.BinaryCrossentropy(from_logits=True)\n",
    "metrics = tf.metrics.BinaryAccuracy()"
   ]
  },
  {
   "cell_type": "code",
   "execution_count": 109,
   "metadata": {
    "executionInfo": {
     "elapsed": 34,
     "status": "ok",
     "timestamp": 1642436112230,
     "user": {
      "displayName": "Le Tuong",
      "photoUrl": "https://lh3.googleusercontent.com/a/default-user=s64",
      "userId": "15697575616762725293"
     },
     "user_tz": -480
    },
    "id": "6wxXwxRBvYot"
   },
   "outputs": [],
   "source": [
    "epochs = 10 #5\n",
    "steps_per_epoch = tf.data.experimental.cardinality(train_ds).numpy()\n",
    "num_train_steps = steps_per_epoch * epochs\n",
    "num_warmup_steps = int(0.1*num_train_steps)\n",
    "\n",
    "init_lr = 3e-5\n",
    "optimizer = optimization.create_optimizer(init_lr=init_lr,\n",
    "                                          num_train_steps=num_train_steps,\n",
    "                                          num_warmup_steps=num_warmup_steps,\n",
    "                                          optimizer_type='adamw')"
   ]
  },
  {
   "cell_type": "code",
   "execution_count": 110,
   "metadata": {
    "executionInfo": {
     "elapsed": 34,
     "status": "ok",
     "timestamp": 1642436112231,
     "user": {
      "displayName": "Le Tuong",
      "photoUrl": "https://lh3.googleusercontent.com/a/default-user=s64",
      "userId": "15697575616762725293"
     },
     "user_tz": -480
    },
    "id": "WgORMHTlvYou"
   },
   "outputs": [],
   "source": [
    "classifier_model.compile(optimizer=optimizer,\n",
    "                         loss=loss,\n",
    "                         metrics=metrics)"
   ]
  },
  {
   "cell_type": "markdown",
   "metadata": {
    "id": "loNoxmW1vYov"
   },
   "source": [
    "#TRAINING BERT"
   ]
  },
  {
   "cell_type": "code",
   "execution_count": 111,
   "metadata": {
    "colab": {
     "base_uri": "https://localhost:8080/"
    },
    "executionInfo": {
     "elapsed": 297,
     "status": "ok",
     "timestamp": 1642436123581,
     "user": {
      "displayName": "Le Tuong",
      "photoUrl": "https://lh3.googleusercontent.com/a/default-user=s64",
      "userId": "15697575616762725293"
     },
     "user_tz": -480
    },
    "id": "_lkLZBGBvYow",
    "outputId": "63c47a6e-a42f-4098-ea44-661a979b4e58"
   },
   "outputs": [
    {
     "name": "stdout",
     "output_type": "stream",
     "text": [
      "Found GPU at: /device:GPU:0\n"
     ]
    }
   ],
   "source": [
    "%tensorflow_version 2.x\n",
    "import tensorflow as tf\n",
    "device_name = tf.test.gpu_device_name()\n",
    "if device_name != '/device:GPU:0':\n",
    "  raise SystemError('GPU device not found')\n",
    "print('Found GPU at: {}'.format(device_name))\n",
    "\n",
    "%tensorflow_version 2.x\n",
    "import tensorflow as tf\n",
    "import timeit\n",
    "\n",
    "device_name = tf.test.gpu_device_name()\n",
    "if device_name != '/device:GPU:0':\n",
    "  print(\n",
    "      '\\n\\nThis error most likely means that this notebook is not '\n",
    "      'configured to use a GPU.  Change this in Notebook Settings via the '\n",
    "      'command palette (cmd/ctrl-shift-P) or the Edit menu.\\n\\n')\n",
    "  raise SystemError('GPU device not found')\n",
    "\n",
    "def cpu():\n",
    "  with tf.device('/cpu:0'):\n",
    "    random_image_cpu = tf.random.normal((100, 100, 100, 3))\n",
    "    net_cpu = tf.keras.layers.Conv2D(32, 7)(random_image_cpu)\n",
    "    return tf.math.reduce_sum(net_cpu)\n",
    "\n",
    "def gpu():\n",
    "  with tf.device('/device:GPU:0'):\n",
    "    print(f'Training model with {tfhub_handle_encoder}')\n",
    "    history = classifier_model.fit(x=train_ds,\n",
    "                               validation_data=val_ds,\n",
    "                               epochs=epochs)\n",
    "    plot_loss(history,epochs)"
   ]
  },
  {
   "cell_type": "code",
   "execution_count": 112,
   "metadata": {
    "colab": {
     "base_uri": "https://localhost:8080/",
     "height": 897
    },
    "executionInfo": {
     "elapsed": 222379,
     "status": "ok",
     "timestamp": 1642436360598,
     "user": {
      "displayName": "Le Tuong",
      "photoUrl": "https://lh3.googleusercontent.com/a/default-user=s64",
      "userId": "15697575616762725293"
     },
     "user_tz": -480
    },
    "id": "SPU0h1LpvYoy",
    "outputId": "fbc028b4-dfd5-4f2d-f472-47e878b6a43b"
   },
   "outputs": [
    {
     "name": "stdout",
     "output_type": "stream",
     "text": [
      "Training model with https://tfhub.dev/tensorflow/small_bert/bert_en_uncased_L-4_H-512_A-8/1\n",
      "Epoch 1/10\n",
      "68/68 [==============================] - 42s 546ms/step - loss: 0.6678 - binary_accuracy: 0.6079 - val_loss: 0.5261 - val_binary_accuracy: 0.7222\n",
      "Epoch 2/10\n",
      "68/68 [==============================] - 16s 236ms/step - loss: 0.4339 - binary_accuracy: 0.7931 - val_loss: 0.3546 - val_binary_accuracy: 0.8407\n",
      "Epoch 3/10\n",
      "68/68 [==============================] - 16s 237ms/step - loss: 0.3033 - binary_accuracy: 0.8731 - val_loss: 0.3227 - val_binary_accuracy: 0.8444\n",
      "Epoch 4/10\n",
      "68/68 [==============================] - 16s 235ms/step - loss: 0.2180 - binary_accuracy: 0.9120 - val_loss: 0.3258 - val_binary_accuracy: 0.8556\n",
      "Epoch 5/10\n",
      "68/68 [==============================] - 16s 235ms/step - loss: 0.1708 - binary_accuracy: 0.9343 - val_loss: 0.3445 - val_binary_accuracy: 0.8685\n",
      "Epoch 6/10\n",
      "68/68 [==============================] - 16s 237ms/step - loss: 0.1326 - binary_accuracy: 0.9505 - val_loss: 0.3760 - val_binary_accuracy: 0.8630\n",
      "Epoch 7/10\n",
      "68/68 [==============================] - 16s 236ms/step - loss: 0.1005 - binary_accuracy: 0.9644 - val_loss: 0.4531 - val_binary_accuracy: 0.8500\n",
      "Epoch 8/10\n",
      "68/68 [==============================] - 16s 237ms/step - loss: 0.0774 - binary_accuracy: 0.9731 - val_loss: 0.4219 - val_binary_accuracy: 0.8630\n",
      "Epoch 9/10\n",
      "68/68 [==============================] - 16s 235ms/step - loss: 0.0671 - binary_accuracy: 0.9750 - val_loss: 0.4119 - val_binary_accuracy: 0.8741\n",
      "Epoch 10/10\n",
      "68/68 [==============================] - 16s 235ms/step - loss: 0.0630 - binary_accuracy: 0.9787 - val_loss: 0.4113 - val_binary_accuracy: 0.8741\n"
     ]
    },
    {
     "data": {
      "image/png": "[encoded data removed]",
      "text/plain": [
       "<Figure size 800x560 with 1 Axes>"
      ]
     },
     "metadata": {},
     "output_type": "display_data"
    }
   ],
   "source": [
    "# We run each op once to warm up; see: https://stackoverflow.com/a/45067900\n",
    "gpu()"
   ]
  },
  {
   "cell_type": "code",
   "execution_count": 113,
   "metadata": {
    "colab": {
     "base_uri": "https://localhost:8080/"
    },
    "executionInfo": {
     "elapsed": 24870,
     "status": "ok",
     "timestamp": 1642436391981,
     "user": {
      "displayName": "Le Tuong",
      "photoUrl": "https://lh3.googleusercontent.com/a/default-user=s64",
      "userId": "15697575616762725293"
     },
     "user_tz": -480
    },
    "id": "18oEmXOUvYo0",
    "outputId": "874cfefb-94f8-4441-be01-d55ff28c29df"
   },
   "outputs": [
    {
     "name": "stdout",
     "output_type": "stream",
     "text": [
      "10/10 [==============================] - 25s 206ms/step - loss: 0.3442 - binary_accuracy: 0.8933\n",
      "Loss: 0.3442104756832123\n",
      "Accuracy: 0.8933333158493042\n"
     ]
    }
   ],
   "source": [
    "loss, accuracy = classifier_model.evaluate(test_ds)\n",
    "\n",
    "print(f'Loss: {loss}')\n",
    "print(f'Accuracy: {accuracy}')"
   ]
  },
  {
   "cell_type": "code",
   "execution_count": 114,
   "metadata": {
    "colab": {
     "base_uri": "https://localhost:8080/"
    },
    "executionInfo": {
     "elapsed": 7141,
     "status": "ok",
     "timestamp": 1642436401762,
     "user": {
      "displayName": "Le Tuong",
      "photoUrl": "https://lh3.googleusercontent.com/a/default-user=s64",
      "userId": "15697575616762725293"
     },
     "user_tz": -480
    },
    "id": "fvpwxHpRvYo0",
    "outputId": "ea3fa051-ac83-467d-9bbe-4ffb5f7b025b"
   },
   "outputs": [
    {
     "name": "stdout",
     "output_type": "stream",
     "text": [
      "68/68 [==============================] - 7s 100ms/step - loss: 0.0263 - binary_accuracy: 0.9921\n"
     ]
    }
   ],
   "source": [
    "loss, accuracy = classifier_model.evaluate(train_ds)"
   ]
  },
  {
   "cell_type": "code",
   "execution_count": 115,
   "metadata": {
    "colab": {
     "base_uri": "https://localhost:8080/"
    },
    "executionInfo": {
     "elapsed": 8226,
     "status": "ok",
     "timestamp": 1642436414898,
     "user": {
      "displayName": "Le Tuong",
      "photoUrl": "https://lh3.googleusercontent.com/a/default-user=s64",
      "userId": "15697575616762725293"
     },
     "user_tz": -480
    },
    "id": "RRfbo3E0vYo1",
    "outputId": "fead41fc-b93c-4281-b35d-816b31d57834"
   },
   "outputs": [
    {
     "name": "stderr",
     "output_type": "stream",
     "text": [
      "WARNING:absl:Found untraced functions such as restored_function_body, restored_function_body, restored_function_body, restored_function_body, restored_function_body while saving (showing 5 of 310). These functions will not be directly callable after loading.\n"
     ]
    },
    {
     "name": "stdout",
     "output_type": "stream",
     "text": [
      "INFO:tensorflow:Assets written to: ./uic_bert/assets\n"
     ]
    },
    {
     "name": "stderr",
     "output_type": "stream",
     "text": [
      "INFO:tensorflow:Assets written to: ./uic_bert/assets\n"
     ]
    }
   ],
   "source": [
    "dataset_name = 'uic'\n",
    "saved_model_path = './{}_bert'.format(dataset_name.replace('/', '_'))\n",
    "\n",
    "classifier_model.save(saved_model_path, include_optimizer=False)\n",
    "#reloaded_model = tf.saved_model.load(saved_model_path)"
   ]
  }
 ],
 "metadata": {
  "accelerator": "GPU",
  "colab": {
   "collapsed_sections": [
    "taxZe0XZq45v",
    "eo6i1au2rJsF",
    "HGm10A5HRGXp",
    "A3uvQ2HBr1Of",
    "QN_TBe8XsvHe",
    "J_ic8iV3rkU_",
    "N6ugGU5KvYok",
    "FsbZudbZvYop"
   ],
   "name": "Copy of classify_text_with_bert.ipynb",
   "provenance": [
    {
     "file_id": "1RZZin5jJheFMnrRS6SSBPskL3-m6m4YW",
     "timestamp": 1642436440218
    }
   ]
  },
  "kernelspec": {
   "display_name": "Python 3 (ipykernel)",
   "language": "python",
   "name": "python3"
  },
  "language_info": {
   "codemirror_mode": {
    "name": "ipython",
    "version": 3
   },
   "file_extension": ".py",
   "mimetype": "text/x-python",
   "name": "python",
   "nbconvert_exporter": "python",
   "pygments_lexer": "ipython3",
   "version": "3.10.9"
  }
 },
 "nbformat": 4,
 "nbformat_minor": 1
}
