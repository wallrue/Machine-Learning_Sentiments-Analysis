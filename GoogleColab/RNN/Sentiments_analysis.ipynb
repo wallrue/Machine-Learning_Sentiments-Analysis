{
 "cells": [
  {
   "cell_type": "code",
   "execution_count": 1,
   "metadata": {
    "executionInfo": {
     "elapsed": 8,
     "status": "ok",
     "timestamp": 1642436778605,
     "user": {
      "displayName": "Tuong Le",
      "photoUrl": "https://lh3.googleusercontent.com/a-/AOh14Gj8tUis5idnWhMdgJg-GsQFe1xjk6bKy2BXmbUfJg=s64",
      "userId": "06383073588811322445"
     },
     "user_tz": -480
    },
    "id": "rHaXoinoKdYe"
   },
   "outputs": [],
   "source": [
    "from google.colab import drive"
   ]
  },
  {
   "cell_type": "code",
   "execution_count": 2,
   "metadata": {
    "colab": {
     "base_uri": "https://localhost:8080/"
    },
    "executionInfo": {
     "elapsed": 30243,
     "status": "ok",
     "timestamp": 1642436808842,
     "user": {
      "displayName": "Tuong Le",
      "photoUrl": "https://lh3.googleusercontent.com/a-/AOh14Gj8tUis5idnWhMdgJg-GsQFe1xjk6bKy2BXmbUfJg=s64",
      "userId": "06383073588811322445"
     },
     "user_tz": -480
    },
    "id": "yCFUU3bHKs6y",
    "outputId": "949e488b-f531-409f-e8e3-d036e7188a7d"
   },
   "outputs": [
    {
     "name": "stdout",
     "output_type": "stream",
     "text": [
      "Mounted at /content/drive/\n"
     ]
    }
   ],
   "source": [
    "drive.mount('/content/drive/')"
   ]
  },
  {
   "cell_type": "code",
   "execution_count": 3,
   "metadata": {
    "colab": {
     "base_uri": "https://localhost:8080/"
    },
    "executionInfo": {
     "elapsed": 353,
     "status": "ok",
     "timestamp": 1642436832382,
     "user": {
      "displayName": "Tuong Le",
      "photoUrl": "https://lh3.googleusercontent.com/a-/AOh14Gj8tUis5idnWhMdgJg-GsQFe1xjk6bKy2BXmbUfJg=s64",
      "userId": "06383073588811322445"
     },
     "user_tz": -480
    },
    "id": "9fM_XAqFKuHi",
    "outputId": "582d74dd-a7d6-4b07-dc76-aad4b0b337ce"
   },
   "outputs": [
    {
     "name": "stdout",
     "output_type": "stream",
     "text": [
      "/bin/bash: line 0: cd: content/drive/MyDrive: No such file or directory\n"
     ]
    }
   ],
   "source": [
    "!cd 'content/drive/MyDrive'"
   ]
  },
  {
   "cell_type": "markdown",
   "metadata": {
    "id": "keMGuGuJK9ua"
   },
   "source": [
    "#ADDING LIBRARY AND DEFINE FUNCTION"
   ]
  },
  {
   "cell_type": "code",
   "execution_count": 4,
   "metadata": {
    "executionInfo": {
     "elapsed": 3560,
     "status": "ok",
     "timestamp": 1642436844867,
     "user": {
      "displayName": "Tuong Le",
      "photoUrl": "https://lh3.googleusercontent.com/a-/AOh14Gj8tUis5idnWhMdgJg-GsQFe1xjk6bKy2BXmbUfJg=s64",
      "userId": "06383073588811322445"
     },
     "user_tz": -480
    },
    "id": "egMv8TWKLGET"
   },
   "outputs": [],
   "source": [
    "from pathlib import Path\n",
    "import tensorflow as tf\n",
    "import numpy as np\n",
    "import pickle\n",
    "\n",
    "import spacy\n",
    "from keras.preprocessing.text import Tokenizer\n",
    "from keras.models import Sequential\n",
    "from keras.layers import Dense, LSTM, Embedding, Input, Dropout, Bidirectional\n",
    "from keras.layers import SpatialDropout1D, GRU, Conv1D, GlobalAveragePooling1D, GlobalMaxPooling1D, concatenate\n",
    "from keras.models import Model\n",
    "from tensorflow.keras.utils import to_categorical\n",
    "from sklearn.model_selection import train_test_split\n",
    "from sklearn import metrics\n",
    "from sklearn.metrics import roc_curve, auc\n",
    "\n",
    "import matplotlib.pyplot as plt"
   ]
  },
  {
   "cell_type": "code",
   "execution_count": 5,
   "metadata": {
    "executionInfo": {
     "elapsed": 12,
     "status": "ok",
     "timestamp": 1642436844869,
     "user": {
      "displayName": "Tuong Le",
      "photoUrl": "https://lh3.googleusercontent.com/a-/AOh14Gj8tUis5idnWhMdgJg-GsQFe1xjk6bKy2BXmbUfJg=s64",
      "userId": "06383073588811322445"
     },
     "user_tz": -480
    },
    "id": "FXiw6ujwLJyT"
   },
   "outputs": [],
   "source": [
    "\"\"\"\n",
    "--- PREPROCESSING ---\n",
    "\"\"\"\n",
    "    \n",
    "def get_prepocessed_dataset(dataset_path):\n",
    "    objects = []\n",
    "    with (open(dataset_path, \"rb\")) as openfile:\n",
    "        objects.append(pickle.load(openfile))\n",
    "\n",
    "    return objects\n",
    "\n",
    "\n",
    "\"\"\"\n",
    "--- POSTPROCESS AND EVALUATION ---\n",
    "\"\"\"\n",
    "\n",
    "def mylossfunction(y_pred,y_test):\n",
    "    m = tf.keras.metrics.BinaryAccuracy()\n",
    "    #print(np.shape(y_pred),np.shape(y_test))\n",
    "    m.update_state(y_test,y_pred)  \n",
    "    return m.result().numpy()\n",
    "\n",
    "def myROCfunction(y_test,y_pred):\n",
    "    # Compute ROC curve and ROC area for each class\n",
    "    fpr = dict()\n",
    "    tpr = dict()\n",
    "    roc_auc = dict()\n",
    "    #print(np.shape(y_pred),np.shape(y_test))\n",
    "    for i in range(2):\n",
    "        fpr[i], tpr[i], _ = roc_curve(y_test[:, i], y_pred[:, i])\n",
    "        roc_auc[i] = auc(fpr[i], tpr[i])\n",
    "        \n",
    "    # Compute micro-average ROC curve and ROC area\n",
    "    # fpr[\"micro\"], tpr[\"micro\"], _ = roc_curve(y_test.ravel(), y_score.ravel())\n",
    "    # roc_auc[\"micro\"] = auc(fpr[\"micro\"], tpr[\"micro\"])\n",
    "    \n",
    "    return roc_auc;\n",
    "\n",
    "\"\"\"\n",
    "--- DRAW ACCURACY ---\n",
    "\"\"\"\n",
    "\n",
    "def plot_loss(H, EPOCHS):\n",
    "    \n",
    "    plt.style.use(\"classic\")\n",
    "    plt.figure(figsize=[10,7])\n",
    "    plt.xlim(0,EPOCHS)\n",
    "    plt.ylim(0,1.0)\n",
    "    N = EPOCHS\n",
    "    # plt.plot(np.arange(0, N), H.history[\"loss\"], label=\"train_loss\")\n",
    "    # plt.plot(np.arange(0, N), H.history[\"val_loss\"], label=\"val_loss\")\n",
    "    plt.plot(np.arange(0, N), H.history[\"accuracy\"], label=\"train_acc\")\n",
    "    plt.plot(np.arange(0, N), H.history[\"val_accuracy\"], label=\"val_acc\")\n",
    "    plt.grid()\n",
    "    plt.title(\"Training Loss and Accuracy\")\n",
    "    plt.xlabel(\"Epoch #\")\n",
    "    plt.ylabel(\"Loss/Accuracy\")\n",
    "    plt.legend(loc=\"lower left\")\n",
    "    plt.savefig(\"plot_\"+name)"
   ]
  },
  {
   "cell_type": "markdown",
   "metadata": {
    "id": "O6vvTSqvLtbp"
   },
   "source": [
    "#BUILDING MODEL:"
   ]
  },
  {
   "cell_type": "code",
   "execution_count": 27,
   "metadata": {
    "executionInfo": {
     "elapsed": 322,
     "status": "ok",
     "timestamp": 1642440983880,
     "user": {
      "displayName": "Tuong Le",
      "photoUrl": "https://lh3.googleusercontent.com/a-/AOh14Gj8tUis5idnWhMdgJg-GsQFe1xjk6bKy2BXmbUfJg=s64",
      "userId": "06383073588811322445"
     },
     "user_tz": -480
    },
    "id": "UEIa43SMLsUk"
   },
   "outputs": [],
   "source": [
    "\"\"\"\n",
    "--- Bi-LSTM FUNCTION ---\n",
    "\"\"\"\n",
    "\n",
    "class BiLstm:\n",
    "    def __init__(self,vocabulary_size, seq_len):\n",
    "        self.model = Sequential()\n",
    "        self.model.add(Embedding(vocabulary_size, 128, input_length=seq_len))\n",
    "        self.model.add(Bidirectional(LSTM(64)))\n",
    "        self.model.add(Dropout(0.5))\n",
    "        #self.model.add(Bidirectional(LSTM(64)))\n",
    "        #self.model.add(Dropout(0.5))\n",
    "        #self.model.add(Dense(1, activation='sigmoid'))\n",
    "        self.model.add(Dense(64, activation='relu'))\n",
    "        self.model.add(Dense(2, activation='softmax'))\n",
    "        #self.model.compile(loss='binary_crossentropy', optimizer='adam', metrics=['accuracy'])eds)\n",
    "        self.model.compile(loss='categorical_crossentropy', optimizer='adam', metrics=['accuracy'])\n",
    "        \n",
    "        self.history\n",
    "\n",
    "    def fit(self,x,y,validation_fraction, mybatch_size = 256,myepochs = 5,verbose = 1):\n",
    "        self.history = self.model.fit(x, y, validation_split = validation_fraction, batch_size=mybatch_size, epochs=myepochs,verbose=verbose)\n",
    "        \n",
    "    def prediction(self,x):\n",
    "        return self.model.predict(x)#.reshape(-1,1) ##size col = 41, row = 1 ==> y = (1,25949) //but only y[8],y[11] or y[12] keep the result\n",
    "           \n",
    "    def test(self,x,y):\n",
    "        y_pred = self.model.predict(x)\n",
    "        y_test = np.array(y)\n",
    "\n",
    "        print(\"Accuracy of testing: \",mylossfunction(y_pred,y_test))\n",
    "        #print(\"ROC Area: \")\n",
    "        #roc_error =  myROCfunction(y_test,y_pred)\n",
    "        #for i in range(len(roc_error)):\n",
    "        #  print(\"- Class \",i,\" = %0.2f\",roc_error[i])\n",
    "\n",
    "    def save_model(self,name):\n",
    "        self.model.save(name + \"-BiLSTM\")\n",
    "    \n",
    "    def history(self):\n",
    "        return self.history\n",
    "\n",
    "\n",
    "\"\"\"\n",
    "--- RNN FUNCTION ---\n",
    "\"\"\"\n",
    "\n",
    "class RNN:\n",
    "    def __init__(self,vocabulary_size, seq_len):\n",
    "        self.model = Sequential()\n",
    "        self.model.add(Embedding(vocabulary_size, 128, input_length=seq_len)) #Embedding 25-D, seq_len is the max-length of word\n",
    "        #The Embedding layer is initialized with random weights and will learn an embedding for all of the words in the training dataset.\n",
    "        self.model.add(LSTM(16, return_sequences=True)) # to stack LSTM we need return seq \n",
    "        self.del.add(Dropout(0.5))mo\n",
    "        self.model.add(LSTM(16)) #150 is batch_size\n",
    "        self.model.add(Dropout(0.5))\n",
    "        self.model.add(Dense(7, activation='relu'))\n",
    "        #self.model.add(Dense(1, activation='sigmoid'))\n",
    "        self.model.add(Dense(2, activation='softmax'))\n",
    "        #self.model.compile(loss='binary_crossentropy', optimizer='adam', metrics=['accuracy'])\n",
    "        self.model.compile(loss='categorical_crossentropy', optimizer='adam', metrics=['accuracy'])\n",
    "        \n",
    "        self.history\n",
    "\n",
    "    def fit(self,x,y,validation_fraction, mybatch_size = 256,myepochs = 5,verbose = 1):\n",
    "        self.history = self.model.fit(x, y, validation_split = validation_fraction, batch_size=mybatch_size, epochs=myepochs,verbose=verbose)\n",
    "        \n",
    "    def prediction(self,x):\n",
    "        return self.model.predict(x)#.reshape(-1,1) ##size col = 41, row = 1 ==> y = (1,25949) //but only y[8],y[11] or y[12] keep the result\n",
    "        \n",
    "    def test(self,x,y):\n",
    "        y_pred = self.model.predict(x)\n",
    "        y_test = np.array(y)\n",
    "\n",
    "        print(\"Accuracy of testing: \",mylossfunction(y_pred,y_test))\n",
    "        #print(\"ROC Area: \")\n",
    "        #roc_error =  myROCfunction(y_test,y_pred)\n",
    "        #for i in range(len(roc_error)):\n",
    "        #  print(\"- Class \",i,\" = %0.2f\",roc_error[i])\n",
    "\n",
    "    def save_model(self,name):\n",
    "        self.model.save(name + \"-LSTM\")\n",
    "    \n",
    "    def history(self):\n",
    "        return self.history"
   ]
  },
  {
   "cell_type": "markdown",
   "metadata": {
    "id": "JQ98CKtwahE_"
   },
   "source": [
    "#**CONDUCT EXPERIMENT WITH UIC DATASET**"
   ]
  },
  {
   "cell_type": "markdown",
   "metadata": {
    "id": "4xRE8nA1MFl4"
   },
   "source": [
    "#GETTING DATASET:"
   ]
  },
  {
   "cell_type": "code",
   "execution_count": 7,
   "metadata": {
    "executionInfo": {
     "elapsed": 1086,
     "status": "ok",
     "timestamp": 1642436859424,
     "user": {
      "displayName": "Tuong Le",
      "photoUrl": "https://lh3.googleusercontent.com/a-/AOh14Gj8tUis5idnWhMdgJg-GsQFe1xjk6bKy2BXmbUfJg=s64",
      "userId": "06383073588811322445"
     },
     "user_tz": -480
    },
    "id": "r2B0Jlx4Qa6M"
   },
   "outputs": [],
   "source": [
    "name = \"UIC\" #\"Standford\"\n",
    "if name == \"Standford\":\n",
    "  mydata = get_prepocessed_dataset('drive/MyDrive/preprocessed_data/standford/processed_standford.pkl')[0]\n",
    "  x_train = np.array(mydata[0]['input'])\n",
    "  x_test = np.array(mydata[1]['input'])\n",
    "  y_train = np.array(mydata[0]['output'])\n",
    "  y_test = np.array(mydata[1]['output'])\n",
    "  vocabulary_size = mydata[0]['word_count'][0]\n",
    "  x_dev = np.array(mydata[2]['input'])\n",
    "else: \n",
    "  mydata = get_prepocessed_dataset('drive/MyDrive/preprocessed_data/sentiment_sentences/processed_sentiment_sentences.pkl')[0] #it has only a row and 3 columns   \n",
    "  X = np.array(mydata['input'])\n",
    "  y = np.array(mydata['output'])\n",
    "  x_train, x_test, y_train, y_test = train_test_split(X, y, test_size=0.1)\n",
    "  vocabulary_size = mydata['word_count'][0]"
   ]
  },
  {
   "cell_type": "markdown",
   "metadata": {
    "id": "_pHQ7M_sQmVD"
   },
   "source": [
    "#DEFINE PARAMETERS"
   ]
  },
  {
   "cell_type": "code",
   "execution_count": 9,
   "metadata": {
    "executionInfo": {
     "elapsed": 304,
     "status": "ok",
     "timestamp": 1642437000988,
     "user": {
      "displayName": "Tuong Le",
      "photoUrl": "https://lh3.googleusercontent.com/a-/AOh14Gj8tUis5idnWhMdgJg-GsQFe1xjk6bKy2BXmbUfJg=s64",
      "userId": "06383073588811322445"
     },
     "user_tz": -480
    },
    "id": "bkLT_GPrQpaS"
   },
   "outputs": [],
   "source": [
    "vocabulary_size = vocabulary_size + 1\n",
    "seq_len = x_train.shape[1] #the cols or charater of each samples\n",
    "input_dim = vocabulary_size \n",
    "input_length = seq_len\n",
    "#print(input_dim,input_length)\n",
    "validation_fraction = 0.1\n",
    "mybatch_size = 256\n",
    "#myepochs = 12\n",
    "verbose = 1"
   ]
  },
  {
   "cell_type": "markdown",
   "metadata": {
    "id": "wCUUuZL9Q0JC"
   },
   "source": [
    "#TRAINING MODEL"
   ]
  },
  {
   "cell_type": "code",
   "execution_count": 10,
   "metadata": {
    "colab": {
     "base_uri": "https://localhost:8080/"
    },
    "executionInfo": {
     "elapsed": 23484,
     "status": "ok",
     "timestamp": 1642437026821,
     "user": {
      "displayName": "Tuong Le",
      "photoUrl": "https://lh3.googleusercontent.com/a-/AOh14Gj8tUis5idnWhMdgJg-GsQFe1xjk6bKy2BXmbUfJg=s64",
      "userId": "06383073588811322445"
     },
     "user_tz": -480
    },
    "id": "Ah_2eKEPQ2V0",
    "outputId": "a306d21d-d49d-49ca-bb11-6ef7936326cc"
   },
   "outputs": [
    {
     "name": "stdout",
     "output_type": "stream",
     "text": [
      "Epoch 1/15\n",
      "10/10 [==============================] - 6s 157ms/step - loss: 0.6933 - accuracy: 0.4909 - val_loss: 0.6932 - val_accuracy: 0.4778\n",
      "Epoch 2/15\n",
      "10/10 [==============================] - 1s 57ms/step - loss: 0.6924 - accuracy: 0.5185 - val_loss: 0.6924 - val_accuracy: 0.5222\n",
      "Epoch 3/15\n",
      "10/10 [==============================] - 1s 58ms/step - loss: 0.6896 - accuracy: 0.5506 - val_loss: 0.6875 - val_accuracy: 0.5333\n",
      "Epoch 4/15\n",
      "10/10 [==============================] - 1s 58ms/step - loss: 0.6747 - accuracy: 0.6230 - val_loss: 0.6667 - val_accuracy: 0.6889\n",
      "Epoch 5/15\n",
      "10/10 [==============================] - 1s 57ms/step - loss: 0.6021 - accuracy: 0.8160 - val_loss: 0.5684 - val_accuracy: 0.7852\n",
      "Epoch 6/15\n",
      "10/10 [==============================] - 1s 57ms/step - loss: 0.3887 - accuracy: 0.9045 - val_loss: 0.4376 - val_accuracy: 0.8185\n",
      "Epoch 7/15\n",
      "10/10 [==============================] - 1s 56ms/step - loss: 0.2117 - accuracy: 0.9494 - val_loss: 0.4365 - val_accuracy: 0.8333\n",
      "Epoch 8/15\n",
      "10/10 [==============================] - 1s 58ms/step - loss: 0.1306 - accuracy: 0.9737 - val_loss: 0.4636 - val_accuracy: 0.8481\n",
      "Epoch 9/15\n",
      "10/10 [==============================] - 1s 56ms/step - loss: 0.1029 - accuracy: 0.9811 - val_loss: 0.5370 - val_accuracy: 0.8481\n",
      "Epoch 10/15\n",
      "10/10 [==============================] - 1s 61ms/step - loss: 0.0873 - accuracy: 0.9848 - val_loss: 0.6375 - val_accuracy: 0.8296\n",
      "Epoch 11/15\n",
      "10/10 [==============================] - 1s 60ms/step - loss: 0.0799 - accuracy: 0.9864 - val_loss: 0.6932 - val_accuracy: 0.8111\n",
      "Epoch 12/15\n",
      "10/10 [==============================] - 1s 64ms/step - loss: 0.0743 - accuracy: 0.9868 - val_loss: 0.6854 - val_accuracy: 0.8185\n",
      "Epoch 13/15\n",
      "10/10 [==============================] - 1s 60ms/step - loss: 0.0937 - accuracy: 0.9844 - val_loss: 0.7213 - val_accuracy: 0.8222\n",
      "Epoch 14/15\n",
      "10/10 [==============================] - 1s 57ms/step - loss: 0.0551 - accuracy: 0.9909 - val_loss: 0.6708 - val_accuracy: 0.8296\n",
      "Epoch 15/15\n",
      "10/10 [==============================] - 1s 60ms/step - loss: 0.0559 - accuracy: 0.9901 - val_loss: 0.6853 - val_accuracy: 0.8296\n"
     ]
    },
    {
     "name": "stderr",
     "output_type": "stream",
     "text": [
      "WARNING:absl:Found untraced functions such as lstm_cell_layer_call_fn, lstm_cell_layer_call_and_return_conditional_losses, lstm_cell_1_layer_call_fn, lstm_cell_1_layer_call_and_return_conditional_losses, lstm_cell_layer_call_fn while saving (showing 5 of 10). These functions will not be directly callable after loading.\n"
     ]
    },
    {
     "name": "stdout",
     "output_type": "stream",
     "text": [
      "INFO:tensorflow:Assets written to: UIC-LSTM/assets\n"
     ]
    },
    {
     "name": "stderr",
     "output_type": "stream",
     "text": [
      "INFO:tensorflow:Assets written to: UIC-LSTM/assets\n",
      "WARNING:absl:<keras.layers.recurrent.LSTMCell object at 0x7fc7f2024f90> has the same name 'LSTMCell' as a built-in Keras object. Consider renaming <class 'keras.layers.recurrent.LSTMCell'> to avoid naming conflicts when loading with `tf.keras.models.load_model`. If renaming is not possible, pass the object in the `custom_objects` parameter of the load function.\n",
      "WARNING:absl:<keras.layers.recurrent.LSTMCell object at 0x7fc7f1ea1390> has the same name 'LSTMCell' as a built-in Keras object. Consider renaming <class 'keras.layers.recurrent.LSTMCell'> to avoid naming conflicts when loading with `tf.keras.models.load_model`. If renaming is not possible, pass the object in the `custom_objects` parameter of the load function.\n"
     ]
    }
   ],
   "source": [
    "myRNN = RNN(input_dim, input_length)\n",
    "myRNN.fit(x_train,y_train,validation_fraction,mybatch_size,15,verbose)\n",
    "myRNN.save_model(name)"
   ]
  },
  {
   "cell_type": "code",
   "execution_count": 11,
   "metadata": {
    "colab": {
     "base_uri": "https://localhost:8080/",
     "height": 621
    },
    "executionInfo": {
     "elapsed": 3034,
     "status": "ok",
     "timestamp": 1642437034099,
     "user": {
      "displayName": "Tuong Le",
      "photoUrl": "https://lh3.googleusercontent.com/a-/AOh14Gj8tUis5idnWhMdgJg-GsQFe1xjk6bKy2BXmbUfJg=s64",
      "userId": "06383073588811322445"
     },
     "user_tz": -480
    },
    "id": "0rAH8tPeogr1",
    "outputId": "f36bfe2b-f427-49a8-f328-98b021695c6f"
   },
   "outputs": [
    {
     "name": "stdout",
     "output_type": "stream",
     "text": [
      "Accuracy of testing:  0.958\n",
      "Accuracy of testing:  0.959\n",
      "Accuracy of testing:  0.956\n",
      "Accuracy of testing:  0.97444445\n",
      "Accuracy of testing:  0.8066667\n"
     ]
    },
    {
     "data": {
      "image/png": "[encoded data removed]",
      "text/plain": [
       "<Figure size 800x560 with 1 Axes>"
      ]
     },
     "metadata": {},
     "output_type": "display_data"
    }
   ],
   "source": [
    "myRNN.test(X[0:1000],y[0:1000])\n",
    "myRNN.test(X[1000:2000],y[1000:2000])\n",
    "myRNN.test(X[2000:3000],y[2000:3000])\n",
    "myRNN.test(x_train, y_train)\n",
    "myRNN.test(x_test, y_test)\n",
    "plot_loss(myRNN.history,15)"
   ]
  },
  {
   "cell_type": "code",
   "execution_count": 13,
   "metadata": {
    "colab": {
     "base_uri": "https://localhost:8080/"
    },
    "executionInfo": {
     "elapsed": 37453,
     "status": "ok",
     "timestamp": 1642437130555,
     "user": {
      "displayName": "Tuong Le",
      "photoUrl": "https://lh3.googleusercontent.com/a-/AOh14Gj8tUis5idnWhMdgJg-GsQFe1xjk6bKy2BXmbUfJg=s64",
      "userId": "06383073588811322445"
     },
     "user_tz": -480
    },
    "id": "TPSyJ8pyRDqb",
    "outputId": "5d9f2ec5-fb7c-49a7-fe9e-d891362842de"
   },
   "outputs": [
    {
     "name": "stdout",
     "output_type": "stream",
     "text": [
      "Epoch 1/10\n",
      "10/10 [==============================] - 6s 266ms/step - loss: 0.6920 - accuracy: 0.5222 - val_loss: 0.6884 - val_accuracy: 0.5667\n",
      "Epoch 2/10\n",
      "10/10 [==============================] - 2s 167ms/step - loss: 0.6818 - accuracy: 0.5741 - val_loss: 0.6701 - val_accuracy: 0.6741\n",
      "Epoch 3/10\n",
      "10/10 [==============================] - 2s 173ms/step - loss: 0.6231 - accuracy: 0.7519 - val_loss: 0.5845 - val_accuracy: 0.7148\n",
      "Epoch 4/10\n",
      "10/10 [==============================] - 2s 173ms/step - loss: 0.4403 - accuracy: 0.8498 - val_loss: 0.6285 - val_accuracy: 0.6926\n",
      "Epoch 5/10\n",
      "10/10 [==============================] - 2s 172ms/step - loss: 0.2777 - accuracy: 0.8914 - val_loss: 0.4355 - val_accuracy: 0.7889\n",
      "Epoch 6/10\n",
      "10/10 [==============================] - 2s 165ms/step - loss: 0.1823 - accuracy: 0.9440 - val_loss: 0.3717 - val_accuracy: 0.8222\n",
      "Epoch 7/10\n",
      "10/10 [==============================] - 2s 171ms/step - loss: 0.1038 - accuracy: 0.9737 - val_loss: 0.4125 - val_accuracy: 0.8333\n",
      "Epoch 8/10\n",
      "10/10 [==============================] - 2s 168ms/step - loss: 0.0667 - accuracy: 0.9823 - val_loss: 0.4664 - val_accuracy: 0.8296\n",
      "Epoch 9/10\n",
      "10/10 [==============================] - 2s 168ms/step - loss: 0.0467 - accuracy: 0.9885 - val_loss: 0.5079 - val_accuracy: 0.8370\n",
      "Epoch 10/10\n",
      "10/10 [==============================] - 2s 168ms/step - loss: 0.0342 - accuracy: 0.9926 - val_loss: 0.5062 - val_accuracy: 0.8444\n"
     ]
    },
    {
     "name": "stderr",
     "output_type": "stream",
     "text": [
      "WARNING:absl:Found untraced functions such as lstm_cell_6_layer_call_fn, lstm_cell_6_layer_call_and_return_conditional_losses, lstm_cell_7_layer_call_fn, lstm_cell_7_layer_call_and_return_conditional_losses, lstm_cell_6_layer_call_fn while saving (showing 5 of 10). These functions will not be directly callable after loading.\n"
     ]
    },
    {
     "name": "stdout",
     "output_type": "stream",
     "text": [
      "INFO:tensorflow:Assets written to: UIC-BiLSTM/assets\n"
     ]
    },
    {
     "name": "stderr",
     "output_type": "stream",
     "text": [
      "INFO:tensorflow:Assets written to: UIC-BiLSTM/assets\n",
      "WARNING:absl:<keras.layers.recurrent.LSTMCell object at 0x7fc7e9e04c50> has the same name 'LSTMCell' as a built-in Keras object. Consider renaming <class 'keras.layers.recurrent.LSTMCell'> to avoid naming conflicts when loading with `tf.keras.models.load_model`. If renaming is not possible, pass the object in the `custom_objects` parameter of the load function.\n",
      "WARNING:absl:<keras.layers.recurrent.LSTMCell object at 0x7fc7edda8210> has the same name 'LSTMCell' as a built-in Keras object. Consider renaming <class 'keras.layers.recurrent.LSTMCell'> to avoid naming conflicts when loading with `tf.keras.models.load_model`. If renaming is not possible, pass the object in the `custom_objects` parameter of the load function.\n"
     ]
    }
   ],
   "source": [
    "myBiLSTM = BiLstm(input_dim, input_length)\n",
    "myBiLSTM.fit(x_train,y_train,validation_fraction,mybatch_size,10,verbose)\n",
    "myBiLSTM.save_model(name)  "
   ]
  },
  {
   "cell_type": "code",
   "execution_count": 15,
   "metadata": {
    "colab": {
     "base_uri": "https://localhost:8080/",
     "height": 621
    },
    "executionInfo": {
     "elapsed": 2756,
     "status": "ok",
     "timestamp": 1642437321019,
     "user": {
      "displayName": "Tuong Le",
      "photoUrl": "https://lh3.googleusercontent.com/a-/AOh14Gj8tUis5idnWhMdgJg-GsQFe1xjk6bKy2BXmbUfJg=s64",
      "userId": "06383073588811322445"
     },
     "user_tz": -480
    },
    "id": "cs2AKhazwJaO",
    "outputId": "ec356b64-e142-43f8-daf0-9b3f48c98c08"
   },
   "outputs": [
    {
     "name": "stdout",
     "output_type": "stream",
     "text": [
      "Accuracy of testing:  0.958\n",
      "Accuracy of testing:  0.965\n",
      "Accuracy of testing:  0.959\n",
      "Accuracy of testing:  0.97962964\n",
      "Accuracy of testing:  0.79\n"
     ]
    },
    {
     "data": {
      "image/png": "[encoded data removed]",
      "text/plain": [
       "<Figure size 800x560 with 1 Axes>"
      ]
     },
     "metadata": {},
     "output_type": "display_data"
    }
   ],
   "source": [
    "myBiLSTM.test(X[:1000], y[:1000])\n",
    "myBiLSTM.test(X[1000:2000], y[1000:2000])\n",
    "myBiLSTM.test(X[2000:3000], y[2000:3000])\n",
    "myBiLSTM.test(x_train, y_train)\n",
    "myBiLSTM.test(x_test, y_test)\n",
    "plot_loss(myBiLSTM.history,10)"
   ]
  },
  {
   "cell_type": "markdown",
   "metadata": {
    "id": "GzGxA55ILn_i"
   },
   "source": [
    "#**CONDUCTING THE EXPERIMENT WITH STANDFORD DATASET**"
   ]
  },
  {
   "cell_type": "markdown",
   "metadata": {
    "id": "vZFZZa5nL2Hx"
   },
   "source": [
    "#GETTING DATASET:"
   ]
  },
  {
   "cell_type": "code",
   "execution_count": 16,
   "metadata": {
    "executionInfo": {
     "elapsed": 3795,
     "status": "ok",
     "timestamp": 1642437377060,
     "user": {
      "displayName": "Tuong Le",
      "photoUrl": "https://lh3.googleusercontent.com/a-/AOh14Gj8tUis5idnWhMdgJg-GsQFe1xjk6bKy2BXmbUfJg=s64",
      "userId": "06383073588811322445"
     },
     "user_tz": -480
    },
    "id": "YwWfHvYLL2Hx"
   },
   "outputs": [],
   "source": [
    "name = \"Standford\"\n",
    "if name == \"Standford\":\n",
    "  mydata = get_prepocessed_dataset('drive/MyDrive/preprocessed_data/standford/processed_standford.pkl')[0]\n",
    "  x_train = np.array(mydata[0]['input'])\n",
    "  x_test = np.array(mydata[1]['input'])\n",
    "  y_train = np.array(mydata[0]['output'])\n",
    "  y_test = np.array(mydata[1]['output'])\n",
    "  vocabulary_size = mydata[0]['word_count'][0]\n",
    "  x_dev = np.array(mydata[2]['input'])\n",
    "else: \n",
    "  mydata = get_prepocessed_dataset('drive/MyDrive/preprocessed_data/sentiment_sentences/processed_sentiment_sentences.pkl')[0] #it has only a row and 3 columns   \n",
    "  X = np.array(mydata['input'])\n",
    "  y = np.array(mydata['output'])\n",
    "  x_train, x_test, y_train, y_test = train_test_split(X, y, test_size=0.1)\n",
    "  vocabulary_size = mydata['word_count'][0]"
   ]
  },
  {
   "cell_type": "markdown",
   "metadata": {
    "id": "812FrCV4L2Hy"
   },
   "source": [
    "#DEFINE PARAMETERS"
   ]
  },
  {
   "cell_type": "code",
   "execution_count": 17,
   "metadata": {
    "executionInfo": {
     "elapsed": 316,
     "status": "ok",
     "timestamp": 1642437382026,
     "user": {
      "displayName": "Tuong Le",
      "photoUrl": "https://lh3.googleusercontent.com/a-/AOh14Gj8tUis5idnWhMdgJg-GsQFe1xjk6bKy2BXmbUfJg=s64",
      "userId": "06383073588811322445"
     },
     "user_tz": -480
    },
    "id": "EU8jKs2bL2Hy"
   },
   "outputs": [],
   "source": [
    "vocabulary_size = vocabulary_size + 1\n",
    "seq_len = x_train.shape[1] #the cols or charater of each samples\n",
    "input_dim = vocabulary_size \n",
    "input_length = seq_len\n",
    "#print(input_dim,input_length)\n",
    "validation_fraction = 0.1\n",
    "mybatch_size = 256\n",
    "#myepochs = 5\n",
    "verbose = 1"
   ]
  },
  {
   "cell_type": "markdown",
   "metadata": {
    "id": "aUGFlStIL2Hy"
   },
   "source": [
    "#TRAINING MODEL"
   ]
  },
  {
   "cell_type": "code",
   "execution_count": 32,
   "metadata": {
    "colab": {
     "base_uri": "https://localhost:8080/"
    },
    "executionInfo": {
     "elapsed": 395803,
     "status": "ok",
     "timestamp": 1642442334314,
     "user": {
      "displayName": "Tuong Le",
      "photoUrl": "https://lh3.googleusercontent.com/a-/AOh14Gj8tUis5idnWhMdgJg-GsQFe1xjk6bKy2BXmbUfJg=s64",
      "userId": "06383073588811322445"
     },
     "user_tz": -480
    },
    "id": "de6ymyhTL2Hy",
    "outputId": "3822944c-542d-4f23-a462-2af689bd7c32"
   },
   "outputs": [
    {
     "name": "stdout",
     "output_type": "stream",
     "text": [
      "Epoch 1/15\n",
      "88/88 [==============================] - 28s 281ms/step - loss: 0.6300 - accuracy: 0.6288 - val_loss: 0.4787 - val_accuracy: 0.8344\n",
      "Epoch 2/15\n",
      "88/88 [==============================] - 24s 268ms/step - loss: 0.3686 - accuracy: 0.8584 - val_loss: 0.4351 - val_accuracy: 0.7904\n",
      "Epoch 3/15\n",
      "88/88 [==============================] - 24s 271ms/step - loss: 0.2125 - accuracy: 0.9293 - val_loss: 0.4555 - val_accuracy: 0.7964\n",
      "Epoch 4/15\n",
      "88/88 [==============================] - 24s 272ms/step - loss: 0.1199 - accuracy: 0.9655 - val_loss: 0.7536 - val_accuracy: 0.7788\n",
      "Epoch 5/15\n",
      "88/88 [==============================] - 24s 271ms/step - loss: 0.0711 - accuracy: 0.9824 - val_loss: 0.8626 - val_accuracy: 0.7940\n",
      "Epoch 6/15\n",
      "88/88 [==============================] - 24s 272ms/step - loss: 0.0497 - accuracy: 0.9882 - val_loss: 0.8691 - val_accuracy: 0.7676\n",
      "Epoch 7/15\n",
      "88/88 [==============================] - 24s 271ms/step - loss: 0.0442 - accuracy: 0.9893 - val_loss: 0.9140 - val_accuracy: 0.7780\n",
      "Epoch 8/15\n",
      "88/88 [==============================] - 24s 273ms/step - loss: 0.0321 - accuracy: 0.9929 - val_loss: 1.2086 - val_accuracy: 0.7660\n",
      "Epoch 9/15\n",
      "88/88 [==============================] - 24s 271ms/step - loss: 0.0269 - accuracy: 0.9942 - val_loss: 1.2052 - val_accuracy: 0.7416\n",
      "Epoch 10/15\n",
      "88/88 [==============================] - 24s 270ms/step - loss: 0.0322 - accuracy: 0.9922 - val_loss: 1.0068 - val_accuracy: 0.7876\n",
      "Epoch 11/15\n",
      "88/88 [==============================] - 24s 271ms/step - loss: 0.0243 - accuracy: 0.9943 - val_loss: 1.1041 - val_accuracy: 0.7832\n",
      "Epoch 12/15\n",
      "88/88 [==============================] - 24s 270ms/step - loss: 0.0155 - accuracy: 0.9967 - val_loss: 1.2153 - val_accuracy: 0.7700\n",
      "Epoch 13/15\n",
      "88/88 [==============================] - 24s 270ms/step - loss: 0.0085 - accuracy: 0.9982 - val_loss: 1.7395 - val_accuracy: 0.7344\n",
      "Epoch 14/15\n",
      "88/88 [==============================] - 24s 272ms/step - loss: 0.0156 - accuracy: 0.9965 - val_loss: 1.3429 - val_accuracy: 0.7612\n",
      "Epoch 15/15\n",
      "88/88 [==============================] - 24s 272ms/step - loss: 0.0299 - accuracy: 0.9914 - val_loss: 0.9945 - val_accuracy: 0.7992\n"
     ]
    },
    {
     "name": "stderr",
     "output_type": "stream",
     "text": [
      "WARNING:absl:Found untraced functions such as lstm_cell_26_layer_call_fn, lstm_cell_26_layer_call_and_return_conditional_losses, lstm_cell_27_layer_call_fn, lstm_cell_27_layer_call_and_return_conditional_losses, lstm_cell_26_layer_call_fn while saving (showing 5 of 10). These functions will not be directly callable after loading.\n"
     ]
    },
    {
     "name": "stdout",
     "output_type": "stream",
     "text": [
      "INFO:tensorflow:Assets written to: Standford-LSTM/assets\n"
     ]
    },
    {
     "name": "stderr",
     "output_type": "stream",
     "text": [
      "INFO:tensorflow:Assets written to: Standford-LSTM/assets\n",
      "WARNING:absl:<keras.layers.recurrent.LSTMCell object at 0x7fc7ddbc0f90> has the same name 'LSTMCell' as a built-in Keras object. Consider renaming <class 'keras.layers.recurrent.LSTMCell'> to avoid naming conflicts when loading with `tf.keras.models.load_model`. If renaming is not possible, pass the object in the `custom_objects` parameter of the load function.\n",
      "WARNING:absl:<keras.layers.recurrent.LSTMCell object at 0x7fc7ddf2e8d0> has the same name 'LSTMCell' as a built-in Keras object. Consider renaming <class 'keras.layers.recurrent.LSTMCell'> to avoid naming conflicts when loading with `tf.keras.models.load_model`. If renaming is not possible, pass the object in the `custom_objects` parameter of the load function.\n"
     ]
    }
   ],
   "source": [
    "myRNN = RNN(input_dim, input_length)\n",
    "myRNN.fit(x_train,y_train,validation_fraction,mybatch_size,15,verbose)\n",
    "myRNN.save_model(name)"
   ]
  },
  {
   "cell_type": "code",
   "execution_count": 33,
   "metadata": {
    "colab": {
     "base_uri": "https://localhost:8080/",
     "height": 568
    },
    "executionInfo": {
     "elapsed": 25736,
     "status": "ok",
     "timestamp": 1642442367224,
     "user": {
      "displayName": "Tuong Le",
      "photoUrl": "https://lh3.googleusercontent.com/a-/AOh14Gj8tUis5idnWhMdgJg-GsQFe1xjk6bKy2BXmbUfJg=s64",
      "userId": "06383073588811322445"
     },
     "user_tz": -480
    },
    "id": "IvkI1oC5L2Hy",
    "outputId": "4fd8997b-96e9-415c-a91b-98ff3eec1702"
   },
   "outputs": [
    {
     "name": "stdout",
     "output_type": "stream",
     "text": [
      "Accuracy of testing:  0.9754\n",
      "Accuracy of testing:  0.76988\n"
     ]
    },
    {
     "data": {
      "image/png": "[encoded data removed]",
      "text/plain": [
       "<Figure size 800x560 with 1 Axes>"
      ]
     },
     "metadata": {},
     "output_type": "display_data"
    }
   ],
   "source": [
    "myRNN.test(x_train, y_train)\n",
    "myRNN.test(x_test, y_test)\n",
    "plot_loss(myRNN.history,15)"
   ]
  },
  {
   "cell_type": "code",
   "execution_count": 34,
   "metadata": {
    "colab": {
     "base_uri": "https://localhost:8080/"
    },
    "executionInfo": {
     "elapsed": 760905,
     "status": "ok",
     "timestamp": 1642443148656,
     "user": {
      "displayName": "Tuong Le",
      "photoUrl": "https://lh3.googleusercontent.com/a-/AOh14Gj8tUis5idnWhMdgJg-GsQFe1xjk6bKy2BXmbUfJg=s64",
      "userId": "06383073588811322445"
     },
     "user_tz": -480
    },
    "id": "IfdPWlkNL2Hz",
    "outputId": "1e76d8e5-a79e-4e90-c9a4-5fedd7aad716"
   },
   "outputs": [
    {
     "name": "stdout",
     "output_type": "stream",
     "text": [
      "Epoch 1/10\n",
      "88/88 [==============================] - 73s 788ms/step - loss: 0.5377 - accuracy: 0.7052 - val_loss: 0.3801 - val_accuracy: 0.8172\n",
      "Epoch 2/10\n",
      "88/88 [==============================] - 69s 788ms/step - loss: 0.2544 - accuracy: 0.8996 - val_loss: 0.4113 - val_accuracy: 0.8340\n",
      "Epoch 3/10\n",
      "88/88 [==============================] - 69s 781ms/step - loss: 0.1278 - accuracy: 0.9559 - val_loss: 0.4473 - val_accuracy: 0.8276\n",
      "Epoch 4/10\n",
      "88/88 [==============================] - 68s 772ms/step - loss: 0.0605 - accuracy: 0.9799 - val_loss: 0.7700 - val_accuracy: 0.7852\n",
      "Epoch 5/10\n",
      "88/88 [==============================] - 68s 772ms/step - loss: 0.0383 - accuracy: 0.9873 - val_loss: 1.1917 - val_accuracy: 0.7580\n",
      "Epoch 6/10\n",
      "88/88 [==============================] - 68s 771ms/step - loss: 0.0220 - accuracy: 0.9927 - val_loss: 0.9013 - val_accuracy: 0.8032\n",
      "Epoch 7/10\n",
      "88/88 [==============================] - 68s 769ms/step - loss: 0.0134 - accuracy: 0.9953 - val_loss: 1.2054 - val_accuracy: 0.7896\n",
      "Epoch 8/10\n",
      "88/88 [==============================] - 68s 769ms/step - loss: 0.0099 - accuracy: 0.9968 - val_loss: 1.6277 - val_accuracy: 0.7588\n",
      "Epoch 9/10\n",
      "88/88 [==============================] - 69s 782ms/step - loss: 0.0107 - accuracy: 0.9963 - val_loss: 1.1843 - val_accuracy: 0.7964\n",
      "Epoch 10/10\n",
      "88/88 [==============================] - 70s 800ms/step - loss: 0.0121 - accuracy: 0.9962 - val_loss: 2.0273 - val_accuracy: 0.7084\n"
     ]
    },
    {
     "name": "stderr",
     "output_type": "stream",
     "text": [
      "WARNING:absl:Found untraced functions such as lstm_cell_29_layer_call_fn, lstm_cell_29_layer_call_and_return_conditional_losses, lstm_cell_30_layer_call_fn, lstm_cell_30_layer_call_and_return_conditional_losses, lstm_cell_29_layer_call_fn while saving (showing 5 of 10). These functions will not be directly callable after loading.\n"
     ]
    },
    {
     "name": "stdout",
     "output_type": "stream",
     "text": [
      "INFO:tensorflow:Assets written to: Standford-BiLSTM/assets\n"
     ]
    },
    {
     "name": "stderr",
     "output_type": "stream",
     "text": [
      "INFO:tensorflow:Assets written to: Standford-BiLSTM/assets\n",
      "WARNING:absl:<keras.layers.recurrent.LSTMCell object at 0x7fc7da904d50> has the same name 'LSTMCell' as a built-in Keras object. Consider renaming <class 'keras.layers.recurrent.LSTMCell'> to avoid naming conflicts when loading with `tf.keras.models.load_model`. If renaming is not possible, pass the object in the `custom_objects` parameter of the load function.\n",
      "WARNING:absl:<keras.layers.recurrent.LSTMCell object at 0x7fc7da83bb10> has the same name 'LSTMCell' as a built-in Keras object. Consider renaming <class 'keras.layers.recurrent.LSTMCell'> to avoid naming conflicts when loading with `tf.keras.models.load_model`. If renaming is not possible, pass the object in the `custom_objects` parameter of the load function.\n"
     ]
    }
   ],
   "source": [
    "myBiLSTM = BiLstm(input_dim, input_length)\n",
    "myBiLSTM.fit(x_train,y_train,validation_fraction,mybatch_size,10,verbose)\n",
    "myBiLSTM.save_model(name)  "
   ]
  },
  {
   "cell_type": "code",
   "execution_count": 35,
   "metadata": {
    "colab": {
     "base_uri": "https://localhost:8080/",
     "height": 568
    },
    "executionInfo": {
     "elapsed": 64317,
     "status": "ok",
     "timestamp": 1642443217028,
     "user": {
      "displayName": "Tuong Le",
      "photoUrl": "https://lh3.googleusercontent.com/a-/AOh14Gj8tUis5idnWhMdgJg-GsQFe1xjk6bKy2BXmbUfJg=s64",
      "userId": "06383073588811322445"
     },
     "user_tz": -480
    },
    "id": "zlSrkoWzL2Hz",
    "outputId": "17dd2ef9-03be-4a72-9310-f56f65a638d1"
   },
   "outputs": [
    {
     "name": "stdout",
     "output_type": "stream",
     "text": [
      "Accuracy of testing:  0.96876\n",
      "Accuracy of testing:  0.7722\n"
     ]
    },
    {
     "data": {
      "image/png": "[encoded data removed]",
      "text/plain": [
       "<Figure size 800x560 with 1 Axes>"
      ]
     },
     "metadata": {},
     "output_type": "display_data"
    }
   ],
   "source": [
    "myBiLSTM.test(x_train, y_train)\n",
    "myBiLSTM.test(x_test, y_test)\n",
    "plot_loss(myBiLSTM.history,10)"
   ]
  }
 ],
 "metadata": {
  "colab": {
   "authorship_tag": "ABX9TyPFJEEllqc5MeSioUwmGefA",
   "collapsed_sections": [
    "keMGuGuJK9ua",
    "vZFZZa5nL2Hx",
    "812FrCV4L2Hy"
   ],
   "name": "Sentiments_analysis.ipynb",
   "provenance": []
  },
  "kernelspec": {
   "display_name": "Python 3 (ipykernel)",
   "language": "python",
   "name": "python3"
  },
  "language_info": {
   "codemirror_mode": {
    "name": "ipython",
    "version": 3
   },
   "file_extension": ".py",
   "mimetype": "text/x-python",
   "name": "python",
   "nbconvert_exporter": "python",
   "pygments_lexer": "ipython3",
   "version": "3.9.12"
  }
 },
 "nbformat": 4,
 "nbformat_minor": 1
}
